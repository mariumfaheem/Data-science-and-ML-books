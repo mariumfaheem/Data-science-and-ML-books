{
 "cells": [
  {
   "cell_type": "code",
   "execution_count": 3,
   "metadata": {
    "collapsed": true
   },
   "outputs": [
    {
     "name": "stderr",
     "output_type": "stream",
     "text": [
      "22/11/20 15:17:54 WARN Utils: Your hostname, Syedas-MacBook-Pro.local resolves to a loopback address: 127.0.0.1; using 192.168.0.106 instead (on interface en0)\n",
      "22/11/20 15:17:54 WARN Utils: Set SPARK_LOCAL_IP if you need to bind to another address\n",
      "WARNING: An illegal reflective access operation has occurred\n",
      "WARNING: Illegal reflective access by org.apache.spark.unsafe.Platform (file:/Users/syedamariumfaheem/.sdkman/candidates/spark/3.2.1/jars/spark-unsafe_2.12-3.2.1.jar) to constructor java.nio.DirectByteBuffer(long,int)\n",
      "WARNING: Please consider reporting this to the maintainers of org.apache.spark.unsafe.Platform\n",
      "WARNING: Use --illegal-access=warn to enable warnings of further illegal reflective access operations\n",
      "WARNING: All illegal access operations will be denied in a future release\n",
      "Using Spark's default log4j profile: org/apache/spark/log4j-defaults.properties\n",
      "Setting default log level to \"WARN\".\n",
      "To adjust logging level use sc.setLogLevel(newLevel). For SparkR, use setLogLevel(newLevel).\n",
      "22/11/20 15:17:55 WARN NativeCodeLoader: Unable to load native-hadoop library for your platform... using builtin-java classes where applicable\n"
     ]
    }
   ],
   "source": [
    "from pyspark import SparkContext, HiveContext\n",
    "from pyspark.sql import SparkSession\n",
    "from pyspark.sql.functions import col,from_json\n",
    "from pyspark.sql.functions import to_timestamp\n",
    "from pyspark.sql.window import Window\n",
    "from pyspark.sql import functions as f\n",
    "from pyspark.sql.types import *\n",
    "from pyspark.sql.functions import *\n",
    "\n",
    "\n",
    "spark = SparkSession.builder.getOrCreate()\n",
    "spark_context = spark.sparkContext"
   ]
  },
  {
   "cell_type": "code",
   "execution_count": 7,
   "outputs": [],
   "source": [
    "weather_df = spark.read.format('tsv').option(\"header\",\"true\").load('/Users/syedamariumfaheem/Desktop/bazaar/Data-Science-and-ML/DS/Milwaukee_weather.tsv')"
   ],
   "metadata": {
    "collapsed": false,
    "pycharm": {
     "name": "#%%\n"
    }
   }
  },
  {
   "cell_type": "code",
   "execution_count": null,
   "outputs": [],
   "source": [
    "weather_df.createOrReplaceTempView('weather')\n",
    "\n",
    "result_query = \"\"\"\n",
    "select\n",
    "d.trip_id,\n",
    "d. eng_load/255 as average_eng_load_prec,\n",
    "(d.fuel_level /255) * v.fuel_tank_capacity as fuel_used\n",
    "from vehicle v join drive d on v.vehicle_spec_id=d.vehicle_spec_id\n",
    "\"\"\"\n",
    "result_query_df = spark.sql(result_query)\n",
    "result_query_df.show()"
   ],
   "metadata": {
    "collapsed": false,
    "pycharm": {
     "name": "#%%\n"
    }
   }
  }
 ],
 "metadata": {
  "kernelspec": {
   "display_name": "Python 3",
   "language": "python",
   "name": "python3"
  },
  "language_info": {
   "codemirror_mode": {
    "name": "ipython",
    "version": 2
   },
   "file_extension": ".py",
   "mimetype": "text/x-python",
   "name": "python",
   "nbconvert_exporter": "python",
   "pygments_lexer": "ipython2",
   "version": "2.7.6"
  }
 },
 "nbformat": 4,
 "nbformat_minor": 0
}