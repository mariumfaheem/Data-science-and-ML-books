{
 "cells": [
  {
   "cell_type": "code",
   "execution_count": null,
   "metadata": {
    "collapsed": true
   },
   "outputs": [],
   "source": [
    "difference between overfitting and underfitting"
   ]
  },
  {
   "cell_type": "code",
   "execution_count": 69,
   "outputs": [],
   "source": [],
   "metadata": {
    "collapsed": false,
    "pycharm": {
     "name": "#%%\n"
    }
   }
  },
  {
   "cell_type": "code",
   "execution_count": 115,
   "outputs": [
    {
     "name": "stdout",
     "output_type": "stream",
     "text": [
      "1.2857142857142858\n",
      "9.0 4\n",
      "[0, 0, 0, 0]\n",
      "[2, 2, 2, 2]\n"
     ]
    }
   ],
   "source": [
    "import math\n",
    "def add_two_val(a, b):\n",
    "    result = a + b\n",
    "    return result\n",
    "\n",
    "\n",
    "from functools import reduce\n",
    "def solution(A,F,M):\n",
    "    #    if (M in [1, 6] and [False for a in A if a==M]):\n",
    "    if (M in [1, 6] and not M in A):\n",
    "        return [0]\n",
    "\n",
    "\n",
    "    remembered = len(A);\n",
    "    total = remembered + F;\n",
    "    sumOfRemembered = reduce(add_two_val,A)\n",
    "    meanOfRemembered = sumOfRemembered / total\n",
    "    residueMean = M - meanOfRemembered\n",
    "    if (residueMean < 0):\n",
    "        return [0]\n",
    "    print(residueMean)\n",
    "    missed = [0]*F\n",
    "    totalMissed = residueMean * total;\n",
    "    print(totalMissed, F)\n",
    "    if (totalMissed % F == 0):\n",
    "        missed=[6]*F\n",
    "        return missed\n",
    "    print(missed)\n",
    "    divided = totalMissed / F;\n",
    "    residue = 0;\n",
    "    for i in range(F):\n",
    "        floatPart = divided - math.floor(divided)\n",
    "        if (residue >= 1):\n",
    "            missed[i] = math.floor(divided) + math.floor(residue);\n",
    "            print(missed[i])\n",
    "            residue -= math.floor(residue);\n",
    "            continue;\n",
    "        residue += floatPart;\n",
    "        missed[i] = math.floor(divided);\n",
    "    return missed\n",
    "\n",
    "\n",
    "A= [1,5,6]\n",
    "F=4\n",
    "M=3\n",
    "print(solution(A, F, M))\n",
    "\n"
   ],
   "metadata": {
    "collapsed": false,
    "pycharm": {
     "name": "#%%\n"
    }
   }
  },
  {
   "cell_type": "code",
   "execution_count": 71,
   "outputs": [
    {
     "name": "stdout",
     "output_type": "stream",
     "text": [
      "True\n",
      "True\n",
      "True\n",
      "True\n"
     ]
    }
   ],
   "source": [
    "# for a in A:\n",
    "#     if a==M:\n",
    "#         continue\n",
    "#     else\n",
    "#         return a\n",
    "#\n",
    "# const ages = [32, 33, 16, 40];\n",
    "#\n",
    "# ages.every(checkAge)\n",
    "#\n",
    "# function checkAge(age) {\n",
    "# return age > 18;\n",
    "# }\n",
    "\n",
    "\n"
   ],
   "metadata": {
    "collapsed": false,
    "pycharm": {
     "name": "#%%\n"
    }
   }
  },
  {
   "cell_type": "code",
   "execution_count": 1,
   "outputs": [
    {
     "name": "stdout",
     "output_type": "stream",
     "text": [
      "('baz', 3)\n",
      "('bar', 2)\n",
      "('foo', 1)\n",
      "Done\n"
     ]
    }
   ],
   "source": [
    "d = {'foo': 1, 'bar': 2, 'baz': 3}\n",
    "while d:\n",
    "    print(d.popitem())\n",
    "print('Done')"
   ],
   "metadata": {
    "collapsed": false,
    "pycharm": {
     "name": "#%%\n"
    }
   }
  },
  {
   "cell_type": "code",
   "execution_count": null,
   "outputs": [],
   "source": [],
   "metadata": {
    "collapsed": false,
    "pycharm": {
     "name": "#%%\n"
    }
   }
  },
  {
   "cell_type": "code",
   "execution_count": 3,
   "outputs": [
    {
     "ename": "AttributeError",
     "evalue": "type object 'super' has no attribute 'speak'",
     "output_type": "error",
     "traceback": [
      "\u001B[0;31m---------------------------------------------------------------------------\u001B[0m",
      "\u001B[0;31mAttributeError\u001B[0m                            Traceback (most recent call last)",
      "\u001B[0;32m/var/folders/zc/g_y3v0fd44z26gwxf6kc_bj40000gn/T/ipykernel_1600/3065313368.py\u001B[0m in \u001B[0;36m<module>\u001B[0;34m\u001B[0m\n\u001B[1;32m     10\u001B[0m \u001B[0;34m\u001B[0m\u001B[0m\n\u001B[1;32m     11\u001B[0m \u001B[0mbobo\u001B[0m \u001B[0;34m=\u001B[0m \u001B[0mJackRussellTerrire\u001B[0m\u001B[0;34m(\u001B[0m\u001B[0;34m)\u001B[0m\u001B[0;34m\u001B[0m\u001B[0;34m\u001B[0m\u001B[0m\n\u001B[0;32m---> 12\u001B[0;31m \u001B[0mbobo\u001B[0m\u001B[0;34m.\u001B[0m\u001B[0mtalk\u001B[0m\u001B[0;34m(\u001B[0m\u001B[0;34m)\u001B[0m\u001B[0;34m\u001B[0m\u001B[0;34m\u001B[0m\u001B[0m\n\u001B[0m",
      "\u001B[0;32m/var/folders/zc/g_y3v0fd44z26gwxf6kc_bj40000gn/T/ipykernel_1600/3065313368.py\u001B[0m in \u001B[0;36mtalk\u001B[0;34m(self)\u001B[0m\n\u001B[1;32m      7\u001B[0m \u001B[0;32mclass\u001B[0m \u001B[0mJackRussellTerrire\u001B[0m\u001B[0;34m(\u001B[0m\u001B[0mDog\u001B[0m\u001B[0;34m)\u001B[0m\u001B[0;34m:\u001B[0m\u001B[0;34m\u001B[0m\u001B[0;34m\u001B[0m\u001B[0m\n\u001B[1;32m      8\u001B[0m     \u001B[0;32mdef\u001B[0m \u001B[0mtalk\u001B[0m\u001B[0;34m(\u001B[0m\u001B[0mself\u001B[0m\u001B[0;34m)\u001B[0m\u001B[0;34m:\u001B[0m\u001B[0;34m\u001B[0m\u001B[0;34m\u001B[0m\u001B[0m\n\u001B[0;32m----> 9\u001B[0;31m         \u001B[0;32mreturn\u001B[0m \u001B[0msuper\u001B[0m\u001B[0;34m.\u001B[0m\u001B[0mspeak\u001B[0m\u001B[0;34m(\u001B[0m\u001B[0;34m)\u001B[0m\u001B[0;34m\u001B[0m\u001B[0;34m\u001B[0m\u001B[0m\n\u001B[0m\u001B[1;32m     10\u001B[0m \u001B[0;34m\u001B[0m\u001B[0m\n\u001B[1;32m     11\u001B[0m \u001B[0mbobo\u001B[0m \u001B[0;34m=\u001B[0m \u001B[0mJackRussellTerrire\u001B[0m\u001B[0;34m(\u001B[0m\u001B[0;34m)\u001B[0m\u001B[0;34m\u001B[0m\u001B[0;34m\u001B[0m\u001B[0m\n",
      "\u001B[0;31mAttributeError\u001B[0m: type object 'super' has no attribute 'speak'"
     ]
    }
   ],
   "source": [
    "class Dog:\n",
    "    def walk(self):\n",
    "        return \"walking\"\n",
    "    def speak(self):\n",
    "        return \"wow\"\n",
    "\n",
    "class JackRussellTerrire(Dog):\n",
    "    def talk(self):\n",
    "        return super.speak()\n",
    "\n",
    "bobo = JackRussellTerrire()\n",
    "bobo.talk()"
   ],
   "metadata": {
    "collapsed": false,
    "pycharm": {
     "name": "#%%\n"
    }
   }
  },
  {
   "cell_type": "code",
   "execution_count": 5,
   "outputs": [
    {
     "name": "stdout",
     "output_type": "stream",
     "text": [
      "2\n"
     ]
    }
   ],
   "source": [
    "class Parent():\n",
    "    def __init__(self):\n",
    "        self.x = 1\n",
    "\n",
    "    def change(self):\n",
    "        self.x = 10\n",
    "class Child(Parent):\n",
    "    def change(self):\n",
    "        self.x = self.x +1\n",
    "        return self.x\n",
    "def main():\n",
    "    obj = Child()\n",
    "    print(obj.change())\n",
    "main()"
   ],
   "metadata": {
    "collapsed": false,
    "pycharm": {
     "name": "#%%\n"
    }
   }
  },
  {
   "cell_type": "code",
   "execution_count": 6,
   "outputs": [
    {
     "name": "stdout",
     "output_type": "stream",
     "text": [
      "edcDone\n"
     ]
    }
   ],
   "source": [
    "a = [\"A\",\"b\", \"c\", \"d\", \"e\"]\n",
    "while a:\n",
    "    if len(a) < 3:\n",
    "        break\n",
    "    print(a.pop(), end = \"\")\n",
    "print(\"Done\")"
   ],
   "metadata": {
    "collapsed": false,
    "pycharm": {
     "name": "#%%\n"
    }
   }
  },
  {
   "cell_type": "code",
   "execution_count": 8,
   "outputs": [
    {
     "name": "stdout",
     "output_type": "stream",
     "text": [
      "a 20\n"
     ]
    }
   ],
   "source": [
    "def outer():\n",
    "    global  a\n",
    "    a = 20\n",
    "    def inner():\n",
    "        global a\n",
    "        a = 30\n",
    "        print('a', a)\n",
    "a = 10\n",
    "outer()\n",
    "print('a',a)"
   ],
   "metadata": {
    "collapsed": false,
    "pycharm": {
     "name": "#%%\n"
    }
   }
  },
  {
   "cell_type": "code",
   "execution_count": null,
   "outputs": [],
   "source": [],
   "metadata": {
    "collapsed": false,
    "pycharm": {
     "name": "#%%\n"
    }
   }
  },
  {
   "cell_type": "code",
   "execution_count": 12,
   "outputs": [
    {
     "name": "stdout",
     "output_type": "stream",
     "text": [
      "A\n"
     ]
    },
    {
     "ename": "NameError",
     "evalue": "name 'obj1' is not defined",
     "output_type": "error",
     "traceback": [
      "\u001B[0;31m---------------------------------------------------------------------------\u001B[0m",
      "\u001B[0;31mNameError\u001B[0m                                 Traceback (most recent call last)",
      "\u001B[0;32m/var/folders/zc/g_y3v0fd44z26gwxf6kc_bj40000gn/T/ipykernel_1600/571685139.py\u001B[0m in \u001B[0;36m<module>\u001B[0;34m\u001B[0m\n\u001B[1;32m      5\u001B[0m \u001B[0mprint\u001B[0m\u001B[0;34m(\u001B[0m\u001B[0mobj\u001B[0m\u001B[0;34m.\u001B[0m\u001B[0ma\u001B[0m\u001B[0;34m)\u001B[0m\u001B[0;34m\u001B[0m\u001B[0;34m\u001B[0m\u001B[0m\n\u001B[1;32m      6\u001B[0m \u001B[0;34m\u001B[0m\u001B[0m\n\u001B[0;32m----> 7\u001B[0;31m \u001B[0mobj1\u001B[0m\u001B[0;34m.\u001B[0m\u001B[0mb\u001B[0m \u001B[0;34m=\u001B[0m \u001B[0;34m\"pak\"\u001B[0m\u001B[0;34m\u001B[0m\u001B[0;34m\u001B[0m\u001B[0m\n\u001B[0m\u001B[1;32m      8\u001B[0m \u001B[0mprint\u001B[0m\u001B[0;34m(\u001B[0m\u001B[0mobj1\u001B[0m\u001B[0;34m.\u001B[0m\u001B[0mb\u001B[0m\u001B[0;34m)\u001B[0m\u001B[0;34m\u001B[0m\u001B[0;34m\u001B[0m\u001B[0m\n",
      "\u001B[0;31mNameError\u001B[0m: name 'obj1' is not defined"
     ]
    }
   ],
   "source": [
    "class ABC():\n",
    "    def __init__(self):\n",
    "        self.a = \"A\"\n",
    "obj = ABC()\n",
    "print(obj.a)\n",
    "\n",
    "obj1.b = \"pak\"\n",
    "print(obj1.b)"
   ],
   "metadata": {
    "collapsed": false,
    "pycharm": {
     "name": "#%%\n"
    }
   }
  },
  {
   "cell_type": "code",
   "execution_count": 13,
   "outputs": [
    {
     "name": "stdout",
     "output_type": "stream",
     "text": [
      "Name of file,  myFile.txt\n",
      "PIAIC\n",
      "\n",
      "Hello World\n"
     ]
    }
   ],
   "source": [
    "fo = open(\"myFile.txt\", \"w+\")\n",
    "print(\"Name of file, \", fo.name)\n",
    "seq = \"PIAIC\\nHello World\"\n",
    "fo.writelines(seq)\n",
    "fo.seek(0,0)\n",
    "for line in fo:\n",
    "    print(line)\n",
    "fo.close()"
   ],
   "metadata": {
    "collapsed": false,
    "pycharm": {
     "name": "#%%\n"
    }
   }
  },
  {
   "cell_type": "code",
   "execution_count": 15,
   "outputs": [
    {
     "name": "stdout",
     "output_type": "stream",
     "text": [
      "0 0\n"
     ]
    }
   ],
   "source": [
    "class Point:\n",
    "    def __init__(self,x=0,y=0):\n",
    "        self.x = 0\n",
    "        self.y = 0\n",
    "    def __sub__(self, other):\n",
    "        x = self.x + other.x\n",
    "        y = self.y +other.x\n",
    "        return Point(3,4)\n",
    "\n",
    "P1 = Point(3,4)\n",
    "P2 = Point(1,2)\n",
    "result = P1-P2\n",
    "print(result.x,result.y)"
   ],
   "metadata": {
    "collapsed": false,
    "pycharm": {
     "name": "#%%\n"
    }
   }
  },
  {
   "cell_type": "code",
   "execution_count": 16,
   "outputs": [
    {
     "name": "stdout",
     "output_type": "stream",
     "text": [
      "123\n"
     ]
    }
   ],
   "source": [
    "class Sale:\n",
    "    def __init__(self, id):\n",
    "        self.id = id\n",
    "        id = 100\n",
    "val = Sale(123)\n",
    "print(val.id)"
   ],
   "metadata": {
    "collapsed": false,
    "pycharm": {
     "name": "#%%\n"
    }
   }
  },
  {
   "cell_type": "code",
   "execution_count": 17,
   "outputs": [
    {
     "name": "stdout",
     "output_type": "stream",
     "text": [
      "8.7\n"
     ]
    }
   ],
   "source": [
    "class Student:\n",
    "    def __init__(self):\n",
    "        self.mark = 97\n",
    "        self.cgpa = 8.7\n",
    "    def display(self):\n",
    "        print(self.mark)\n",
    "obj = Student()\n",
    "print(obj.cgpa)"
   ],
   "metadata": {
    "collapsed": false,
    "pycharm": {
     "name": "#%%\n"
    }
   }
  },
  {
   "cell_type": "code",
   "execution_count": 20,
   "outputs": [],
   "source": [
    "s = \"\"\n",
    "n = 5\n",
    "while n >0:\n",
    "    n -=1\n",
    "    if(n %2) == 0:\n",
    "        continue\n",
    "    a = [\"A\", \"b\",\"c\"]\n",
    "    while a:\n",
    "        s+= str(n) + a.pop(0)\n",
    "        if len(a) < 2:\n",
    "            break"
   ],
   "metadata": {
    "collapsed": false,
    "pycharm": {
     "name": "#%%\n"
    }
   }
  },
  {
   "cell_type": "code",
   "execution_count": null,
   "outputs": [],
   "source": [],
   "metadata": {
    "collapsed": false,
    "pycharm": {
     "name": "#%%\n"
    }
   }
  }
 ],
 "metadata": {
  "kernelspec": {
   "display_name": "Python 3",
   "language": "python",
   "name": "python3"
  },
  "language_info": {
   "codemirror_mode": {
    "name": "ipython",
    "version": 2
   },
   "file_extension": ".py",
   "mimetype": "text/x-python",
   "name": "python",
   "nbconvert_exporter": "python",
   "pygments_lexer": "ipython2",
   "version": "2.7.6"
  }
 },
 "nbformat": 4,
 "nbformat_minor": 0
}