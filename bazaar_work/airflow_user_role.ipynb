{
 "cells": [
  {
   "cell_type": "code",
   "execution_count": 1,
   "metadata": {
    "collapsed": true,
    "pycharm": {
     "name": "#%%\n"
    }
   },
   "outputs": [],
   "source": [
    "import pyspark"
   ]
  },
  {
   "cell_type": "code",
   "execution_count": 6,
   "outputs": [
    {
     "data": {
      "text/plain": "   first_name          username last_name                           email  \\\n0  Muhammad    muhammad.abubakr   Abubakr  muhmmad.abubakr@bazaar-app.com   \n1        test          test.ops       ops                  sami@gmail.com   \n2      sarang      sarang.memon     memon     sarang.memon@bazaar-app.com   \n3     bhagia       bhagia.sheri     sheri     bhagia.sheri@bazaar-app.com   \n4     Hasnain      hasnain.raza      Raza     hasnain.raza@bazaar-app.com   \n\n       role_name  \n0          Admin  \n1   Data Persons  \n2  Biz Engineers  \n3  Biz Engineers  \n4  Ops Engineers  ",
      "text/html": "<div>\n<style scoped>\n    .dataframe tbody tr th:only-of-type {\n        vertical-align: middle;\n    }\n\n    .dataframe tbody tr th {\n        vertical-align: top;\n    }\n\n    .dataframe thead th {\n        text-align: right;\n    }\n</style>\n<table border=\"1\" class=\"dataframe\">\n  <thead>\n    <tr style=\"text-align: right;\">\n      <th></th>\n      <th>first_name</th>\n      <th>username</th>\n      <th>last_name</th>\n      <th>email</th>\n      <th>role_name</th>\n    </tr>\n  </thead>\n  <tbody>\n    <tr>\n      <th>0</th>\n      <td>Muhammad</td>\n      <td>muhammad.abubakr</td>\n      <td>Abubakr</td>\n      <td>muhmmad.abubakr@bazaar-app.com</td>\n      <td>Admin</td>\n    </tr>\n    <tr>\n      <th>1</th>\n      <td>test</td>\n      <td>test.ops</td>\n      <td>ops</td>\n      <td>sami@gmail.com</td>\n      <td>Data Persons</td>\n    </tr>\n    <tr>\n      <th>2</th>\n      <td>sarang</td>\n      <td>sarang.memon</td>\n      <td>memon</td>\n      <td>sarang.memon@bazaar-app.com</td>\n      <td>Biz Engineers</td>\n    </tr>\n    <tr>\n      <th>3</th>\n      <td>bhagia</td>\n      <td>bhagia.sheri</td>\n      <td>sheri</td>\n      <td>bhagia.sheri@bazaar-app.com</td>\n      <td>Biz Engineers</td>\n    </tr>\n    <tr>\n      <th>4</th>\n      <td>Hasnain</td>\n      <td>hasnain.raza</td>\n      <td>Raza</td>\n      <td>hasnain.raza@bazaar-app.com</td>\n      <td>Ops Engineers</td>\n    </tr>\n  </tbody>\n</table>\n</div>"
     },
     "execution_count": 6,
     "metadata": {},
     "output_type": "execute_result"
    }
   ],
   "source": [
    "import pandas as pd\n",
    "\n",
    "df = pd.read_csv('roles_user.csv')\n",
    "df.head()"
   ],
   "metadata": {
    "collapsed": false,
    "pycharm": {
     "name": "#%%\n"
    }
   }
  },
  {
   "cell_type": "code",
   "execution_count": 13,
   "outputs": [
    {
     "data": {
      "text/plain": "                first_name               username             role_name\n0               Muhammad         muhammad.abubakr                 Admin\n1                     test               test.ops          Data Persons\n2                   sarang           sarang.memon         Biz Engineers\n3                  bhagia            bhagia.sheri         Biz Engineers\n4                  Hasnain           hasnain.raza         Ops Engineers\n5                    Uzair           uzair.naveed  Ops Product Managers\n6                   marium            marium.shah                 Admin\n7                 Mohammad         mohammad.urwah         Ops Engineers\n8                    Saqib          saqib.arsalan         Ops Engineers\n9                   Arisha            arisha.aziz                 Admin\n10                 Mustafa          mustafa.mirza                 Admin\n11                   essam             essam.khan         Biz Engineers\n12                  Shahab            shahab.rauf         Biz Engineers\n13                  Shahir          shahir.shamim         Biz Engineers\n14                  rameez           rameez.ahsan         Biz Engineers\n15                   yahya           yahya.zuberi                 Admin\n16                   azhar          azher.ratnani         Ops Engineers\n17                  areeba          areeba.shakir         Ops Engineers\n18                    Taha              taha.khan                 Admin\n19                    huma              huma.imam         Biz Engineers\n20                   Afnan             afnan.amin                 Admin\n21                   sabih            sabih.ahmed         Biz Engineers\n22                  Zamran            zamran.khan             Analytics\n23                  hassan          hassan.shazad             Analytics\n24                   aniqa           aniqa.akhtar             Analytics\n25                 Baaziuf           baaziuf.kalu             Analytics\n26                   Afnan             afnan.khan             Analytics\n27                    asad           asad.siddiqi     Performance Users\n28                  Hammad         hammad.qureshi     Performance Users\n29                   maria           maria.razzak     Performance Users\n30                    Hina            hina.waheed     Performance Users\n31                   yasir           yasir.khatri                 Admin\n32                  Mehtab          mehtab.hassan     Performance Users\n33                   Tariq          tariq.mehmood          Data Persons\n34                   Arbaz          arbaz.pirwani         Ops Engineers\n35                   tooba             tooba.aziz         Ops Engineers\n36                    Qazi              qazi.saad          Data Persons\n37                    Qazi              qazi.saad         Biz Engineers\n38                   fizza             fizza.abid                 Admin\n39  Asharib Abdul Musawwir  asharib.abdulmusawwir          Data Persons\n40                  Rukhma          rukhma.majeed  variable only access\n41                     ali        ali. quettawala  variable only access\n42  Asharib Abdul Musawwir  asharib.abdulmusawwir  variable only access\n43  Asharib Abdul Musawwir  asharib.abdulmusawwir                    Op\n44                   husun          husun.shujaat          Data Persons\n45                   ammar            ammar.rizvi                 Admin\n46  Asharib Abdul Musawwir  asharib.abdulmusawwir                 Admin\n47                    Zain              Zain.Reza                Viewer\n48                  Nakiya         nakiya.hussain  variable only access\n49                     ali            ali.murtaza         Biz Engineers\n50                    taha           taha.shakeel         Biz Engineers\n51                 shakeel        shakeel.hussain         Biz Engineers\n52                   hamza            hamza.ahmed         Biz Engineers\n53                 shaarif           shaarif.khan         Biz Engineers\n54                  saleha         saleha.shujaat         Biz Engineers\n55                   husun          husun.shujaat         Biz Engineers\n56                Abdullah        abdullah.jaffer         Biz Engineers\n57                 shaarif           shaarif.khan         Ops Engineers\n58                 bhagia            bhagia.sheri          Data Persons\n59                  sarang           sarang.memon          Data Persons",
      "text/html": "<div>\n<style scoped>\n    .dataframe tbody tr th:only-of-type {\n        vertical-align: middle;\n    }\n\n    .dataframe tbody tr th {\n        vertical-align: top;\n    }\n\n    .dataframe thead th {\n        text-align: right;\n    }\n</style>\n<table border=\"1\" class=\"dataframe\">\n  <thead>\n    <tr style=\"text-align: right;\">\n      <th></th>\n      <th>first_name</th>\n      <th>username</th>\n      <th>role_name</th>\n    </tr>\n  </thead>\n  <tbody>\n    <tr>\n      <th>0</th>\n      <td>Muhammad</td>\n      <td>muhammad.abubakr</td>\n      <td>Admin</td>\n    </tr>\n    <tr>\n      <th>1</th>\n      <td>test</td>\n      <td>test.ops</td>\n      <td>Data Persons</td>\n    </tr>\n    <tr>\n      <th>2</th>\n      <td>sarang</td>\n      <td>sarang.memon</td>\n      <td>Biz Engineers</td>\n    </tr>\n    <tr>\n      <th>3</th>\n      <td>bhagia</td>\n      <td>bhagia.sheri</td>\n      <td>Biz Engineers</td>\n    </tr>\n    <tr>\n      <th>4</th>\n      <td>Hasnain</td>\n      <td>hasnain.raza</td>\n      <td>Ops Engineers</td>\n    </tr>\n    <tr>\n      <th>5</th>\n      <td>Uzair</td>\n      <td>uzair.naveed</td>\n      <td>Ops Product Managers</td>\n    </tr>\n    <tr>\n      <th>6</th>\n      <td>marium</td>\n      <td>marium.shah</td>\n      <td>Admin</td>\n    </tr>\n    <tr>\n      <th>7</th>\n      <td>Mohammad</td>\n      <td>mohammad.urwah</td>\n      <td>Ops Engineers</td>\n    </tr>\n    <tr>\n      <th>8</th>\n      <td>Saqib</td>\n      <td>saqib.arsalan</td>\n      <td>Ops Engineers</td>\n    </tr>\n    <tr>\n      <th>9</th>\n      <td>Arisha</td>\n      <td>arisha.aziz</td>\n      <td>Admin</td>\n    </tr>\n    <tr>\n      <th>10</th>\n      <td>Mustafa</td>\n      <td>mustafa.mirza</td>\n      <td>Admin</td>\n    </tr>\n    <tr>\n      <th>11</th>\n      <td>essam</td>\n      <td>essam.khan</td>\n      <td>Biz Engineers</td>\n    </tr>\n    <tr>\n      <th>12</th>\n      <td>Shahab</td>\n      <td>shahab.rauf</td>\n      <td>Biz Engineers</td>\n    </tr>\n    <tr>\n      <th>13</th>\n      <td>Shahir</td>\n      <td>shahir.shamim</td>\n      <td>Biz Engineers</td>\n    </tr>\n    <tr>\n      <th>14</th>\n      <td>rameez</td>\n      <td>rameez.ahsan</td>\n      <td>Biz Engineers</td>\n    </tr>\n    <tr>\n      <th>15</th>\n      <td>yahya</td>\n      <td>yahya.zuberi</td>\n      <td>Admin</td>\n    </tr>\n    <tr>\n      <th>16</th>\n      <td>azhar</td>\n      <td>azher.ratnani</td>\n      <td>Ops Engineers</td>\n    </tr>\n    <tr>\n      <th>17</th>\n      <td>areeba</td>\n      <td>areeba.shakir</td>\n      <td>Ops Engineers</td>\n    </tr>\n    <tr>\n      <th>18</th>\n      <td>Taha</td>\n      <td>taha.khan</td>\n      <td>Admin</td>\n    </tr>\n    <tr>\n      <th>19</th>\n      <td>huma</td>\n      <td>huma.imam</td>\n      <td>Biz Engineers</td>\n    </tr>\n    <tr>\n      <th>20</th>\n      <td>Afnan</td>\n      <td>afnan.amin</td>\n      <td>Admin</td>\n    </tr>\n    <tr>\n      <th>21</th>\n      <td>sabih</td>\n      <td>sabih.ahmed</td>\n      <td>Biz Engineers</td>\n    </tr>\n    <tr>\n      <th>22</th>\n      <td>Zamran</td>\n      <td>zamran.khan</td>\n      <td>Analytics</td>\n    </tr>\n    <tr>\n      <th>23</th>\n      <td>hassan</td>\n      <td>hassan.shazad</td>\n      <td>Analytics</td>\n    </tr>\n    <tr>\n      <th>24</th>\n      <td>aniqa</td>\n      <td>aniqa.akhtar</td>\n      <td>Analytics</td>\n    </tr>\n    <tr>\n      <th>25</th>\n      <td>Baaziuf</td>\n      <td>baaziuf.kalu</td>\n      <td>Analytics</td>\n    </tr>\n    <tr>\n      <th>26</th>\n      <td>Afnan</td>\n      <td>afnan.khan</td>\n      <td>Analytics</td>\n    </tr>\n    <tr>\n      <th>27</th>\n      <td>asad</td>\n      <td>asad.siddiqi</td>\n      <td>Performance Users</td>\n    </tr>\n    <tr>\n      <th>28</th>\n      <td>Hammad</td>\n      <td>hammad.qureshi</td>\n      <td>Performance Users</td>\n    </tr>\n    <tr>\n      <th>29</th>\n      <td>maria</td>\n      <td>maria.razzak</td>\n      <td>Performance Users</td>\n    </tr>\n    <tr>\n      <th>30</th>\n      <td>Hina</td>\n      <td>hina.waheed</td>\n      <td>Performance Users</td>\n    </tr>\n    <tr>\n      <th>31</th>\n      <td>yasir</td>\n      <td>yasir.khatri</td>\n      <td>Admin</td>\n    </tr>\n    <tr>\n      <th>32</th>\n      <td>Mehtab</td>\n      <td>mehtab.hassan</td>\n      <td>Performance Users</td>\n    </tr>\n    <tr>\n      <th>33</th>\n      <td>Tariq</td>\n      <td>tariq.mehmood</td>\n      <td>Data Persons</td>\n    </tr>\n    <tr>\n      <th>34</th>\n      <td>Arbaz</td>\n      <td>arbaz.pirwani</td>\n      <td>Ops Engineers</td>\n    </tr>\n    <tr>\n      <th>35</th>\n      <td>tooba</td>\n      <td>tooba.aziz</td>\n      <td>Ops Engineers</td>\n    </tr>\n    <tr>\n      <th>36</th>\n      <td>Qazi</td>\n      <td>qazi.saad</td>\n      <td>Data Persons</td>\n    </tr>\n    <tr>\n      <th>37</th>\n      <td>Qazi</td>\n      <td>qazi.saad</td>\n      <td>Biz Engineers</td>\n    </tr>\n    <tr>\n      <th>38</th>\n      <td>fizza</td>\n      <td>fizza.abid</td>\n      <td>Admin</td>\n    </tr>\n    <tr>\n      <th>39</th>\n      <td>Asharib Abdul Musawwir</td>\n      <td>asharib.abdulmusawwir</td>\n      <td>Data Persons</td>\n    </tr>\n    <tr>\n      <th>40</th>\n      <td>Rukhma</td>\n      <td>rukhma.majeed</td>\n      <td>variable only access</td>\n    </tr>\n    <tr>\n      <th>41</th>\n      <td>ali</td>\n      <td>ali. quettawala</td>\n      <td>variable only access</td>\n    </tr>\n    <tr>\n      <th>42</th>\n      <td>Asharib Abdul Musawwir</td>\n      <td>asharib.abdulmusawwir</td>\n      <td>variable only access</td>\n    </tr>\n    <tr>\n      <th>43</th>\n      <td>Asharib Abdul Musawwir</td>\n      <td>asharib.abdulmusawwir</td>\n      <td>Op</td>\n    </tr>\n    <tr>\n      <th>44</th>\n      <td>husun</td>\n      <td>husun.shujaat</td>\n      <td>Data Persons</td>\n    </tr>\n    <tr>\n      <th>45</th>\n      <td>ammar</td>\n      <td>ammar.rizvi</td>\n      <td>Admin</td>\n    </tr>\n    <tr>\n      <th>46</th>\n      <td>Asharib Abdul Musawwir</td>\n      <td>asharib.abdulmusawwir</td>\n      <td>Admin</td>\n    </tr>\n    <tr>\n      <th>47</th>\n      <td>Zain</td>\n      <td>Zain.Reza</td>\n      <td>Viewer</td>\n    </tr>\n    <tr>\n      <th>48</th>\n      <td>Nakiya</td>\n      <td>nakiya.hussain</td>\n      <td>variable only access</td>\n    </tr>\n    <tr>\n      <th>49</th>\n      <td>ali</td>\n      <td>ali.murtaza</td>\n      <td>Biz Engineers</td>\n    </tr>\n    <tr>\n      <th>50</th>\n      <td>taha</td>\n      <td>taha.shakeel</td>\n      <td>Biz Engineers</td>\n    </tr>\n    <tr>\n      <th>51</th>\n      <td>shakeel</td>\n      <td>shakeel.hussain</td>\n      <td>Biz Engineers</td>\n    </tr>\n    <tr>\n      <th>52</th>\n      <td>hamza</td>\n      <td>hamza.ahmed</td>\n      <td>Biz Engineers</td>\n    </tr>\n    <tr>\n      <th>53</th>\n      <td>shaarif</td>\n      <td>shaarif.khan</td>\n      <td>Biz Engineers</td>\n    </tr>\n    <tr>\n      <th>54</th>\n      <td>saleha</td>\n      <td>saleha.shujaat</td>\n      <td>Biz Engineers</td>\n    </tr>\n    <tr>\n      <th>55</th>\n      <td>husun</td>\n      <td>husun.shujaat</td>\n      <td>Biz Engineers</td>\n    </tr>\n    <tr>\n      <th>56</th>\n      <td>Abdullah</td>\n      <td>abdullah.jaffer</td>\n      <td>Biz Engineers</td>\n    </tr>\n    <tr>\n      <th>57</th>\n      <td>shaarif</td>\n      <td>shaarif.khan</td>\n      <td>Ops Engineers</td>\n    </tr>\n    <tr>\n      <th>58</th>\n      <td>bhagia</td>\n      <td>bhagia.sheri</td>\n      <td>Data Persons</td>\n    </tr>\n    <tr>\n      <th>59</th>\n      <td>sarang</td>\n      <td>sarang.memon</td>\n      <td>Data Persons</td>\n    </tr>\n  </tbody>\n</table>\n</div>"
     },
     "execution_count": 13,
     "metadata": {},
     "output_type": "execute_result"
    }
   ],
   "source": [
    "new_df = df[['first_name','username','role_name']].groupby(df['username'])\n",
    "new_df.head()"
   ],
   "metadata": {
    "collapsed": false,
    "pycharm": {
     "name": "#%%\n"
    }
   }
  },
  {
   "cell_type": "code",
   "execution_count": null,
   "outputs": [],
   "source": [
    "\n",
    "\n",
    "def updated_into_db(first_name,last_name,username,email,roles):\n",
    "\n",
    "    {\n",
    "        \"first_name\": \"string\",\n",
    "        \"last_name\": \"string\",\n",
    "        \"username\": \"string\",\n",
    "        \"email\": \"string\",\n",
    "        \"roles\": [\n",
    "            {\n",
    "                \"name\": \"string\"\n",
    "            }\n",
    "\n",
    "        ],\n",
    "        \"password\": \"string\"\n",
    "    }\n"
   ],
   "metadata": {
    "collapsed": false,
    "pycharm": {
     "name": "#%%\n"
    }
   }
  },
  {
   "cell_type": "code",
   "execution_count": null,
   "outputs": [],
   "source": [
    "df.apply(updated_into_db(df[\"first_name\"],df[\"last_name\"],df[\"first_name\"]))"
   ],
   "metadata": {
    "collapsed": false,
    "pycharm": {
     "name": "#%%\n"
    }
   }
  }
 ],
 "metadata": {
  "kernelspec": {
   "display_name": "Python 3",
   "language": "python",
   "name": "python3"
  },
  "language_info": {
   "codemirror_mode": {
    "name": "ipython",
    "version": 2
   },
   "file_extension": ".py",
   "mimetype": "text/x-python",
   "name": "python",
   "nbconvert_exporter": "python",
   "pygments_lexer": "ipython2",
   "version": "2.7.6"
  }
 },
 "nbformat": 4,
 "nbformat_minor": 0
}