{
 "cells": [
  {
   "cell_type": "markdown",
   "metadata": {},
   "source": [
    "<p style=\"text-align:center\">\n",
    "    <a href=\"https://skills.network/?utm_medium=Exinfluencer&utm_source=Exinfluencer&utm_content=000026UJ&utm_term=10006555&utm_id=NA-SkillsNetwork-Channel-SkillsNetworkCoursesIBMDeveloperSkillsNetworkPY0101ENSkillsNetwork19487395-2022-01-01\" target=\"_blank\">\n",
    "    <img src=\"https://cf-courses-data.s3.us.cloud-object-storage.appdomain.cloud/assets/logos/SN_web_lightmode.png\" width=\"200\" alt=\"Skills Network Logo\"  />\n",
    "    </a>\n",
    "</p>\n",
    "\n",
    "# Application Programming Interface\n",
    "\n",
    "Estimated time needed: **15** minutes\n",
    "\n",
    "## Objectives\n",
    "\n",
    "After completing this lab you will be able to:\n",
    "\n",
    "*   Create and Use APIs in Python\n"
   ]
  },
  {
   "cell_type": "markdown",
   "metadata": {},
   "source": [
    "### Introduction\n",
    "\n",
    "An API lets two pieces of software talk to each other. Just like a function,  you don’t have to know how the API works only its inputs and outputs.  An essential type of API is a REST API that allows you to access resources via the internet. In this lab, we will review the Pandas Library  in the context of an API, we will also review a basic REST API\n"
   ]
  },
  {
   "cell_type": "markdown",
   "metadata": {},
   "source": [
    "## Table of Contents\n",
    "\n",
    "<div class=\"alert alert-block alert-info\" style=\"margin-top: 20px\">\n",
    "<li><a href=\"https://#ref0\">Pandas is an API</a></li>\n",
    "<li><a href=\"https://#ref1\">REST APIs Basics  </a></li>\n",
    "<li><a href=\"https://#ref2\">Quiz on Tuples</a></li>\n",
    "\n",
    "</div>\n",
    "\n",
    "<hr>\n"
   ]
  },
  {
   "cell_type": "code",
   "execution_count": 1,
   "metadata": {
    "jupyter": {
     "outputs_hidden": false
    }
   },
   "outputs": [
    {
     "name": "stdout",
     "output_type": "stream",
     "text": [
      "Requirement already satisfied: pycoingecko in /Users/syedamariumfaheem/opt/anaconda3/lib/python3.9/site-packages (2.2.0)\r\n",
      "Requirement already satisfied: requests in /Users/syedamariumfaheem/opt/anaconda3/lib/python3.9/site-packages (from pycoingecko) (2.26.0)\r\n",
      "Requirement already satisfied: urllib3<1.27,>=1.21.1 in /Users/syedamariumfaheem/opt/anaconda3/lib/python3.9/site-packages (from requests->pycoingecko) (1.26.7)\r\n",
      "Requirement already satisfied: idna<4,>=2.5 in /Users/syedamariumfaheem/opt/anaconda3/lib/python3.9/site-packages (from requests->pycoingecko) (3.2)\r\n",
      "Requirement already satisfied: certifi>=2017.4.17 in /Users/syedamariumfaheem/opt/anaconda3/lib/python3.9/site-packages (from requests->pycoingecko) (2021.10.8)\r\n",
      "Requirement already satisfied: charset-normalizer~=2.0.0 in /Users/syedamariumfaheem/opt/anaconda3/lib/python3.9/site-packages (from requests->pycoingecko) (2.0.4)\r\n",
      "Collecting plotly\r\n",
      "  Downloading plotly-5.9.0-py2.py3-none-any.whl (15.2 MB)\r\n",
      "\u001B[K     |████████████████████████████████| 15.2 MB 249 kB/s eta 0:00:01\r\n",
      "\u001B[?25hRequirement already satisfied: tenacity>=6.2.0 in /Users/syedamariumfaheem/opt/anaconda3/lib/python3.9/site-packages (from plotly) (8.0.1)\r\n",
      "Installing collected packages: plotly\r\n",
      "Successfully installed plotly-5.9.0\r\n",
      "Requirement already satisfied: mplfinance in /Users/syedamariumfaheem/opt/anaconda3/lib/python3.9/site-packages (0.12.9b1)\r\n",
      "Requirement already satisfied: matplotlib in /Users/syedamariumfaheem/opt/anaconda3/lib/python3.9/site-packages (from mplfinance) (3.4.3)\r\n",
      "Requirement already satisfied: pandas in /Users/syedamariumfaheem/opt/anaconda3/lib/python3.9/site-packages (from mplfinance) (1.3.4)\r\n",
      "Requirement already satisfied: cycler>=0.10 in /Users/syedamariumfaheem/opt/anaconda3/lib/python3.9/site-packages (from matplotlib->mplfinance) (0.10.0)\r\n",
      "Requirement already satisfied: kiwisolver>=1.0.1 in /Users/syedamariumfaheem/opt/anaconda3/lib/python3.9/site-packages (from matplotlib->mplfinance) (1.3.1)\r\n",
      "Requirement already satisfied: pyparsing>=2.2.1 in /Users/syedamariumfaheem/opt/anaconda3/lib/python3.9/site-packages (from matplotlib->mplfinance) (3.0.4)\r\n",
      "Requirement already satisfied: python-dateutil>=2.7 in /Users/syedamariumfaheem/opt/anaconda3/lib/python3.9/site-packages (from matplotlib->mplfinance) (2.8.2)\r\n",
      "Requirement already satisfied: numpy>=1.16 in /Users/syedamariumfaheem/opt/anaconda3/lib/python3.9/site-packages (from matplotlib->mplfinance) (1.20.3)\r\n",
      "Requirement already satisfied: pillow>=6.2.0 in /Users/syedamariumfaheem/opt/anaconda3/lib/python3.9/site-packages (from matplotlib->mplfinance) (8.4.0)\r\n",
      "Requirement already satisfied: six in /Users/syedamariumfaheem/opt/anaconda3/lib/python3.9/site-packages (from cycler>=0.10->matplotlib->mplfinance) (1.16.0)\r\n",
      "Requirement already satisfied: pytz>=2017.3 in /Users/syedamariumfaheem/opt/anaconda3/lib/python3.9/site-packages (from pandas->mplfinance) (2021.3)\r\n"
     ]
    }
   ],
   "source": [
    "!pip install pycoingecko\n",
    "!pip install plotly\n",
    "!pip install mplfinance"
   ]
  },
  {
   "cell_type": "code",
   "execution_count": null,
   "outputs": [
    {
     "name": "stdout",
     "output_type": "stream",
     "text": [
      "Collecting pycoingecko\r\n",
      "  Downloading pycoingecko-2.2.0-py3-none-any.whl (8.3 kB)\r\n",
      "Requirement already satisfied: requests in /Users/syedamariumfaheem/opt/anaconda3/lib/python3.9/site-packages (from pycoingecko) (2.26.0)\r\n",
      "Requirement already satisfied: idna<4,>=2.5 in /Users/syedamariumfaheem/opt/anaconda3/lib/python3.9/site-packages (from requests->pycoingecko) (3.2)\r\n",
      "Requirement already satisfied: charset-normalizer~=2.0.0 in /Users/syedamariumfaheem/opt/anaconda3/lib/python3.9/site-packages (from requests->pycoingecko) (2.0.4)\r\n",
      "Requirement already satisfied: urllib3<1.27,>=1.21.1 in /Users/syedamariumfaheem/opt/anaconda3/lib/python3.9/site-packages (from requests->pycoingecko) (1.26.7)\r\n",
      "Requirement already satisfied: certifi>=2017.4.17 in /Users/syedamariumfaheem/opt/anaconda3/lib/python3.9/site-packages (from requests->pycoingecko) (2021.10.8)\r\n",
      "Installing collected packages: pycoingecko\r\n",
      "Successfully installed pycoingecko-2.2.0\r\n",
      "Collecting plotly\r\n",
      "  Downloading plotly-5.9.0-py2.py3-none-any.whl (15.2 MB)\r\n",
      "\u001B[K     |██████████████████▍             | 8.7 MB 20 kB/s eta 0:05:134     |█▎                              | 604 kB 158 kB/s eta 0:01:32\u001B[31mERROR: Exception:\r\n",
      "Traceback (most recent call last):\r\n",
      "  File \"/Users/syedamariumfaheem/opt/anaconda3/lib/python3.9/site-packages/pip/_vendor/urllib3/response.py\", line 438, in _error_catcher\r\n",
      "    yield\r\n",
      "  File \"/Users/syedamariumfaheem/opt/anaconda3/lib/python3.9/site-packages/pip/_vendor/urllib3/response.py\", line 519, in read\r\n",
      "    data = self._fp.read(amt) if not fp_closed else b\"\"\r\n",
      "  File \"/Users/syedamariumfaheem/opt/anaconda3/lib/python3.9/site-packages/pip/_vendor/cachecontrol/filewrapper.py\", line 62, in read\r\n",
      "    data = self.__fp.read(amt)\r\n",
      "  File \"/Users/syedamariumfaheem/opt/anaconda3/lib/python3.9/http/client.py\", line 462, in read\r\n",
      "    n = self.readinto(b)\r\n",
      "  File \"/Users/syedamariumfaheem/opt/anaconda3/lib/python3.9/http/client.py\", line 506, in readinto\r\n",
      "    n = self.fp.readinto(b)\r\n",
      "  File \"/Users/syedamariumfaheem/opt/anaconda3/lib/python3.9/socket.py\", line 704, in readinto\r\n",
      "    return self._sock.recv_into(b)\r\n",
      "  File \"/Users/syedamariumfaheem/opt/anaconda3/lib/python3.9/ssl.py\", line 1241, in recv_into\r\n",
      "    return self.read(nbytes, buffer)\r\n",
      "  File \"/Users/syedamariumfaheem/opt/anaconda3/lib/python3.9/ssl.py\", line 1099, in read\r\n",
      "    return self._sslobj.read(len, buffer)\r\n",
      "socket.timeout: The read operation timed out\r\n",
      "\r\n",
      "During handling of the above exception, another exception occurred:\r\n",
      "\r\n",
      "Traceback (most recent call last):\r\n",
      "  File \"/Users/syedamariumfaheem/opt/anaconda3/lib/python3.9/site-packages/pip/_internal/cli/base_command.py\", line 173, in _main\r\n",
      "    status = self.run(options, args)\r\n",
      "  File \"/Users/syedamariumfaheem/opt/anaconda3/lib/python3.9/site-packages/pip/_internal/cli/req_command.py\", line 203, in wrapper\r\n",
      "    return func(self, options, args)\r\n",
      "  File \"/Users/syedamariumfaheem/opt/anaconda3/lib/python3.9/site-packages/pip/_internal/commands/install.py\", line 315, in run\r\n",
      "    requirement_set = resolver.resolve(\r\n",
      "  File \"/Users/syedamariumfaheem/opt/anaconda3/lib/python3.9/site-packages/pip/_internal/resolution/resolvelib/resolver.py\", line 94, in resolve\r\n",
      "    result = self._result = resolver.resolve(\r\n",
      "  File \"/Users/syedamariumfaheem/opt/anaconda3/lib/python3.9/site-packages/pip/_vendor/resolvelib/resolvers.py\", line 472, in resolve\r\n",
      "    state = resolution.resolve(requirements, max_rounds=max_rounds)\r\n",
      "  File \"/Users/syedamariumfaheem/opt/anaconda3/lib/python3.9/site-packages/pip/_vendor/resolvelib/resolvers.py\", line 341, in resolve\r\n",
      "    self._add_to_criteria(self.state.criteria, r, parent=None)\r\n",
      "  File \"/Users/syedamariumfaheem/opt/anaconda3/lib/python3.9/site-packages/pip/_vendor/resolvelib/resolvers.py\", line 172, in _add_to_criteria\r\n",
      "    if not criterion.candidates:\r\n",
      "  File \"/Users/syedamariumfaheem/opt/anaconda3/lib/python3.9/site-packages/pip/_vendor/resolvelib/structs.py\", line 151, in __bool__\r\n",
      "    return bool(self._sequence)\r\n",
      "  File \"/Users/syedamariumfaheem/opt/anaconda3/lib/python3.9/site-packages/pip/_internal/resolution/resolvelib/found_candidates.py\", line 140, in __bool__\r\n",
      "    return any(self)\r\n",
      "  File \"/Users/syedamariumfaheem/opt/anaconda3/lib/python3.9/site-packages/pip/_internal/resolution/resolvelib/found_candidates.py\", line 128, in <genexpr>\r\n",
      "    return (c for c in iterator if id(c) not in self._incompatible_ids)\r\n",
      "  File \"/Users/syedamariumfaheem/opt/anaconda3/lib/python3.9/site-packages/pip/_internal/resolution/resolvelib/found_candidates.py\", line 32, in _iter_built\r\n",
      "    candidate = func()\r\n",
      "  File \"/Users/syedamariumfaheem/opt/anaconda3/lib/python3.9/site-packages/pip/_internal/resolution/resolvelib/factory.py\", line 204, in _make_candidate_from_link\r\n",
      "    self._link_candidate_cache[link] = LinkCandidate(\r\n",
      "  File \"/Users/syedamariumfaheem/opt/anaconda3/lib/python3.9/site-packages/pip/_internal/resolution/resolvelib/candidates.py\", line 295, in __init__\r\n",
      "    super().__init__(\r\n",
      "  File \"/Users/syedamariumfaheem/opt/anaconda3/lib/python3.9/site-packages/pip/_internal/resolution/resolvelib/candidates.py\", line 156, in __init__\r\n",
      "    self.dist = self._prepare()\r\n",
      "  File \"/Users/syedamariumfaheem/opt/anaconda3/lib/python3.9/site-packages/pip/_internal/resolution/resolvelib/candidates.py\", line 227, in _prepare\r\n",
      "    dist = self._prepare_distribution()\r\n",
      "  File \"/Users/syedamariumfaheem/opt/anaconda3/lib/python3.9/site-packages/pip/_internal/resolution/resolvelib/candidates.py\", line 305, in _prepare_distribution\r\n",
      "    return self._factory.preparer.prepare_linked_requirement(\r\n",
      "  File \"/Users/syedamariumfaheem/opt/anaconda3/lib/python3.9/site-packages/pip/_internal/operations/prepare.py\", line 508, in prepare_linked_requirement\r\n",
      "    return self._prepare_linked_requirement(req, parallel_builds)\r\n",
      "  File \"/Users/syedamariumfaheem/opt/anaconda3/lib/python3.9/site-packages/pip/_internal/operations/prepare.py\", line 550, in _prepare_linked_requirement\r\n",
      "    local_file = unpack_url(\r\n",
      "  File \"/Users/syedamariumfaheem/opt/anaconda3/lib/python3.9/site-packages/pip/_internal/operations/prepare.py\", line 239, in unpack_url\r\n",
      "    file = get_http_url(\r\n",
      "  File \"/Users/syedamariumfaheem/opt/anaconda3/lib/python3.9/site-packages/pip/_internal/operations/prepare.py\", line 102, in get_http_url\r\n",
      "    from_path, content_type = download(link, temp_dir.path)\r\n",
      "  File \"/Users/syedamariumfaheem/opt/anaconda3/lib/python3.9/site-packages/pip/_internal/network/download.py\", line 145, in __call__\r\n",
      "    for chunk in chunks:\r\n",
      "  File \"/Users/syedamariumfaheem/opt/anaconda3/lib/python3.9/site-packages/pip/_internal/cli/progress_bars.py\", line 144, in iter\r\n",
      "    for x in it:\r\n",
      "  File \"/Users/syedamariumfaheem/opt/anaconda3/lib/python3.9/site-packages/pip/_internal/network/utils.py\", line 63, in response_chunks\r\n",
      "    for chunk in response.raw.stream(\r\n",
      "  File \"/Users/syedamariumfaheem/opt/anaconda3/lib/python3.9/site-packages/pip/_vendor/urllib3/response.py\", line 576, in stream\r\n",
      "    data = self.read(amt=amt, decode_content=decode_content)\r\n",
      "  File \"/Users/syedamariumfaheem/opt/anaconda3/lib/python3.9/site-packages/pip/_vendor/urllib3/response.py\", line 541, in read\r\n",
      "    raise IncompleteRead(self._fp_bytes_read, self.length_remaining)\r\n",
      "  File \"/Users/syedamariumfaheem/opt/anaconda3/lib/python3.9/contextlib.py\", line 137, in __exit__\r\n",
      "    self.gen.throw(typ, value, traceback)\r\n",
      "  File \"/Users/syedamariumfaheem/opt/anaconda3/lib/python3.9/site-packages/pip/_vendor/urllib3/response.py\", line 443, in _error_catcher\r\n",
      "    raise ReadTimeoutError(self._pool, None, \"Read timed out.\")\r\n",
      "pip._vendor.urllib3.exceptions.ReadTimeoutError: HTTPSConnectionPool(host='files.pythonhosted.org', port=443): Read timed out.\u001B[0m\r\n"
     ]
    }
   ],
   "source": [
    "!pip install pycoingecko\n",
    "!pip install plotly\n",
    "!pip install mplfinance"
   ],
   "metadata": {
    "collapsed": false,
    "pycharm": {
     "name": "#%%\n",
     "is_executing": true
    }
   }
  },
  {
   "cell_type": "markdown",
   "metadata": {},
   "source": [
    "<h2 id=\"PandasAPI\">Pandas is an API </h2>\n"
   ]
  },
  {
   "cell_type": "markdown",
   "metadata": {},
   "source": [
    "Pandas is actually set of software components , much of  which is not even written in Python.\n"
   ]
  },
  {
   "cell_type": "code",
   "execution_count": null,
   "metadata": {
    "jupyter": {
     "outputs_hidden": false
    }
   },
   "outputs": [],
   "source": [
    "import pandas as pd\n",
    "import numpy as np\n",
    "import plotly.graph_objects as go\n",
    "from plotly.offline import plot\n",
    "import matplotlib.pyplot as plt\n",
    "import datetime\n",
    "from pycoingecko import CoinGeckoAPI\n",
    "from mplfinance.original_flavor import candlestick2_ohlc"
   ]
  },
  {
   "cell_type": "markdown",
   "metadata": {},
   "source": [
    "You create a dictionary, this is just data.\n"
   ]
  },
  {
   "cell_type": "code",
   "execution_count": null,
   "metadata": {
    "jupyter": {
     "outputs_hidden": false
    }
   },
   "outputs": [],
   "source": [
    "dict_={'a':[11,21,31],'b':[12,22,32]}"
   ]
  },
  {
   "cell_type": "markdown",
   "metadata": {},
   "source": [
    "When you create a Pandas object with the Dataframe constructor in API lingo, this is an \"instance\". The data in the dictionary is passed along to the pandas API. You then use the dataframe to communicate with the API.\n"
   ]
  },
  {
   "cell_type": "code",
   "execution_count": null,
   "metadata": {
    "jupyter": {
     "outputs_hidden": false
    }
   },
   "outputs": [],
   "source": [
    "df=pd.DataFrame(dict_)\n",
    "type(df)"
   ]
  },
  {
   "cell_type": "markdown",
   "metadata": {},
   "source": [
    "<img src = \"https://cf-courses-data.s3.us.cloud-object-storage.appdomain.cloud/IBMDeveloperSkillsNetwork-PY0101EN-SkillsNetwork/labs/Module%205/images/pandas_api.png\" width = 800, align = \"center\" alt=\"logistic regression block diagram\" />\n"
   ]
  },
  {
   "cell_type": "markdown",
   "metadata": {},
   "source": [
    "When you call the method head the dataframe communicates with the API displaying the first few rows of the dataframe.\n"
   ]
  },
  {
   "cell_type": "code",
   "execution_count": null,
   "metadata": {
    "jupyter": {
     "outputs_hidden": false
    }
   },
   "outputs": [],
   "source": [
    "df.head()"
   ]
  },
  {
   "cell_type": "markdown",
   "metadata": {},
   "source": [
    "When you call the method mean,the API will calculate the mean and return the value.\n"
   ]
  },
  {
   "cell_type": "code",
   "execution_count": null,
   "metadata": {
    "jupyter": {
     "outputs_hidden": false
    }
   },
   "outputs": [],
   "source": [
    "df.mean()"
   ]
  },
  {
   "cell_type": "markdown",
   "metadata": {},
   "source": [
    "<h2 id=\"ref1\">REST APIs</h2>\n"
   ]
  },
  {
   "cell_type": "markdown",
   "metadata": {},
   "source": [
    "Rest API’s function by sending a request,  the request is communicated via HTTP message. The HTTP message usually contains a JSON file. This contains instructions for what operation we would like the service or resource to perform. In a similar manner, API returns a response, via an HTTP message, this response is usually contained within a JSON.\n",
    "\n",
    "In cryptocurrency a popular method to display the movements of the price of a currency.\n",
    "\n",
    "![Example Candlestick Graph](https://cf-courses-data.s3.us.cloud-object-storage.appdomain.cloud/IBMDeveloperSkillsNetwork-PY0101EN-SkillsNetwork/labs/Module%205/candlestick.png)\n",
    "\n",
    "Here is a description of the candle sticks.\n",
    "\n",
    "<img src=\"https://cf-courses-data.s3.us.cloud-object-storage.appdomain.cloud/IBMDeveloperSkillsNetwork-PY0101EN-SkillsNetwork/labs/Module%205/explanation.png\" alt=\"Candle Stick Definition\" width=\"800\" height=\"600\">\n",
    "\n",
    "In this lab, we will be using the <a href=https://www.coingecko.com/en/api?utm_medium=Exinfluencer&utm_source=Exinfluencer&utm_content=000026UJ&utm_term=10006555&utm_id=NA-SkillsNetwork-Channel-SkillsNetworkCoursesIBMDeveloperSkillsNetworkPY0101ENSkillsNetwork19487395-2022-01-01>CoinGecko API</a> to create one of these candlestick graphs for Bitcoin. We will use the API to get the price data for 30 days with 24 observation per day, 1 per hour. We will find the max, min, open, and close price per day meaning we will have 30 candlesticks and use that to generate the candlestick graph. Although we are using the CoinGecko API we will use a Python client/wrapper for the API called <a href=https://github.com/man-c/pycoingecko?utm_medium=Exinfluencer&utm_source=Exinfluencer&utm_content=000026UJ&utm_term=10006555&utm_id=NA-SkillsNetwork-Channel-SkillsNetworkCoursesIBMDeveloperSkillsNetworkPY0101ENSkillsNetwork19487395-2022-01-01>PyCoinGecko</a>. PyCoinGecko will make performing the requests easy and it will deal with the enpoint targeting.\n"
   ]
  },
  {
   "cell_type": "markdown",
   "metadata": {},
   "source": [
    "Lets start off by getting the data we need. Using the <code>get_coin_market_chart_by_id(id, vs_currency, days)</code>. <code>id</code> is the name of the coin you want, <code>vs_currency</code> is the currency you want the price in, and <code>days</code> is how many days back from today you want.\n"
   ]
  },
  {
   "cell_type": "code",
   "execution_count": null,
   "metadata": {},
   "outputs": [],
   "source": [
    "cg = CoinGeckoAPI()\n",
    "\n",
    "bitcoin_data = cg.get_coin_market_chart_by_id(id='bitcoin', vs_currency='usd', days=30)"
   ]
  },
  {
   "cell_type": "code",
   "execution_count": null,
   "metadata": {},
   "outputs": [],
   "source": [
    "type(bitcoin_data )"
   ]
  },
  {
   "cell_type": "markdown",
   "metadata": {},
   "source": [
    "The response we get is in the form of a JSON which includes the price, market caps, and total volumes along with timestamps for each observation. We are focused on the prices so we will select that data.\n"
   ]
  },
  {
   "cell_type": "code",
   "execution_count": null,
   "metadata": {},
   "outputs": [],
   "source": [
    "bitcoin_price_data = bitcoin_data['prices']\n",
    "\n",
    "bitcoin_price_data[0:5]"
   ]
  },
  {
   "cell_type": "markdown",
   "metadata": {},
   "source": [
    "Finally lets turn this data into a Pandas DataFrame.\n"
   ]
  },
  {
   "cell_type": "code",
   "execution_count": null,
   "metadata": {},
   "outputs": [],
   "source": [
    "data = pd.DataFrame(bitcoin_price_data, columns=['TimeStamp', 'Price'])"
   ]
  },
  {
   "cell_type": "markdown",
   "metadata": {},
   "source": [
    "Now that we have the DataFrame we will convert the timestamp to datetime and save it as a column called <code>Date</code>. We will map our <code>unix_to_datetime</code> to each timestamp and convert it to a readable datetime.\n"
   ]
  },
  {
   "cell_type": "code",
   "execution_count": null,
   "metadata": {},
   "outputs": [],
   "source": [
    "data['date'] = data['TimeStamp'].apply(lambda d: datetime.date.fromtimestamp(d/1000.0))\n"
   ]
  },
  {
   "cell_type": "markdown",
   "metadata": {},
   "source": [
    "Using this modified dataset we can now group by the <code>Date</code> and find the min, max, open, and close for the candlesticks.\n"
   ]
  },
  {
   "cell_type": "code",
   "execution_count": null,
   "metadata": {},
   "outputs": [],
   "source": [
    "candlestick_data = data.groupby(data.date, as_index=False).agg({\"Price\": ['min', 'max', 'first', 'last']})"
   ]
  },
  {
   "cell_type": "markdown",
   "metadata": {},
   "source": [
    "Finally we are now ready to use plotly to create our Candlestick Chart.\n"
   ]
  },
  {
   "cell_type": "code",
   "execution_count": null,
   "metadata": {},
   "outputs": [],
   "source": [
    "fig = go.Figure(data=[go.Candlestick(x=candlestick_data['date'],\n",
    "                open=candlestick_data['Price']['first'], \n",
    "                high=candlestick_data['Price']['max'],\n",
    "                low=candlestick_data['Price']['min'], \n",
    "                close=candlestick_data['Price']['last'])\n",
    "                ])\n",
    "\n",
    "fig.update_layout(xaxis_rangeslider_visible=False)\n",
    "\n",
    "fig.show()"
   ]
  },
  {
   "cell_type": "markdown",
   "metadata": {},
   "source": [
    "## Authors:\n",
    "\n",
    "## Change Log\n",
    "\n",
    "| Date (YYYY-MM-DD) | Version | Changed By    | Change Description                 |\n",
    "| ----------------- | ------- | ------------- | ---------------------------------- |\n",
    "| 2020-11-23        | 3.0     | Azim Hirjani  | New API                            |\n",
    "| 2020-09-09        | 2.1     | Malika Singla | Spell Check                        |\n",
    "| 2020-08-26        | 2.0     | Lavanya       | Moved lab to course repo in GitLab |\n",
    "|                   |         |               |                                    |\n",
    "\n",
    "<hr/>\n",
    "\n",
    "## <h3 align=\"center\"> © IBM Corporation 2020. All rights reserved. <h3/>\n"
   ]
  },
  {
   "cell_type": "code",
   "execution_count": null,
   "metadata": {},
   "outputs": [],
   "source": []
  }
 ],
 "metadata": {
  "kernelspec": {
   "display_name": "Python 3",
   "language": "python",
   "name": "python3"
  },
  "language_info": {
   "codemirror_mode": {
    "name": "ipython",
    "version": 3
   },
   "file_extension": ".py",
   "mimetype": "text/x-python",
   "name": "python",
   "nbconvert_exporter": "python",
   "pygments_lexer": "ipython3",
   "version": "3.8.5"
  }
 },
 "nbformat": 4,
 "nbformat_minor": 4
}