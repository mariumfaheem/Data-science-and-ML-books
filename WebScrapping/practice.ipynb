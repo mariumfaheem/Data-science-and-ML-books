{
 "cells": [
  {
   "cell_type": "code",
   "execution_count": 1,
   "outputs": [
    {
     "name": "stdout",
     "output_type": "stream",
     "text": [
      "Requirement already satisfied: selenium in /Users/syedamariumfaheem/opt/anaconda3/lib/python3.9/site-packages (4.3.0)\r\n",
      "Requirement already satisfied: trio~=0.17 in /Users/syedamariumfaheem/opt/anaconda3/lib/python3.9/site-packages (from selenium) (0.21.0)\r\n",
      "Requirement already satisfied: urllib3[secure,socks]~=1.26 in /Users/syedamariumfaheem/opt/anaconda3/lib/python3.9/site-packages (from selenium) (1.26.7)\r\n",
      "Requirement already satisfied: trio-websocket~=0.9 in /Users/syedamariumfaheem/opt/anaconda3/lib/python3.9/site-packages (from selenium) (0.9.2)\r\n",
      "Requirement already satisfied: sortedcontainers in /Users/syedamariumfaheem/opt/anaconda3/lib/python3.9/site-packages (from trio~=0.17->selenium) (2.4.0)\r\n",
      "Requirement already satisfied: sniffio in /Users/syedamariumfaheem/opt/anaconda3/lib/python3.9/site-packages (from trio~=0.17->selenium) (1.2.0)\r\n",
      "Requirement already satisfied: attrs>=19.2.0 in /Users/syedamariumfaheem/opt/anaconda3/lib/python3.9/site-packages (from trio~=0.17->selenium) (20.3.0)\r\n",
      "Requirement already satisfied: async-generator>=1.9 in /Users/syedamariumfaheem/opt/anaconda3/lib/python3.9/site-packages (from trio~=0.17->selenium) (1.10)\r\n",
      "Requirement already satisfied: idna in /Users/syedamariumfaheem/opt/anaconda3/lib/python3.9/site-packages (from trio~=0.17->selenium) (3.2)\r\n",
      "Requirement already satisfied: outcome in /Users/syedamariumfaheem/opt/anaconda3/lib/python3.9/site-packages (from trio~=0.17->selenium) (1.2.0)\r\n",
      "Requirement already satisfied: wsproto>=0.14 in /Users/syedamariumfaheem/opt/anaconda3/lib/python3.9/site-packages (from trio-websocket~=0.9->selenium) (1.1.0)\r\n",
      "Requirement already satisfied: PySocks!=1.5.7,<2.0,>=1.5.6 in /Users/syedamariumfaheem/opt/anaconda3/lib/python3.9/site-packages (from urllib3[secure,socks]~=1.26->selenium) (1.7.1)\r\n",
      "Requirement already satisfied: pyOpenSSL>=0.14 in /Users/syedamariumfaheem/opt/anaconda3/lib/python3.9/site-packages (from urllib3[secure,socks]~=1.26->selenium) (21.0.0)\r\n",
      "Requirement already satisfied: cryptography>=1.3.4 in /Users/syedamariumfaheem/opt/anaconda3/lib/python3.9/site-packages (from urllib3[secure,socks]~=1.26->selenium) (3.4.8)\r\n",
      "Requirement already satisfied: certifi in /Users/syedamariumfaheem/opt/anaconda3/lib/python3.9/site-packages (from urllib3[secure,socks]~=1.26->selenium) (2021.10.8)\r\n",
      "Requirement already satisfied: cffi>=1.12 in /Users/syedamariumfaheem/opt/anaconda3/lib/python3.9/site-packages (from cryptography>=1.3.4->urllib3[secure,socks]~=1.26->selenium) (1.14.6)\r\n",
      "Requirement already satisfied: pycparser in /Users/syedamariumfaheem/opt/anaconda3/lib/python3.9/site-packages (from cffi>=1.12->cryptography>=1.3.4->urllib3[secure,socks]~=1.26->selenium) (2.20)\r\n",
      "Requirement already satisfied: six>=1.5.2 in /Users/syedamariumfaheem/opt/anaconda3/lib/python3.9/site-packages (from pyOpenSSL>=0.14->urllib3[secure,socks]~=1.26->selenium) (1.16.0)\r\n",
      "Requirement already satisfied: h11<1,>=0.9.0 in /Users/syedamariumfaheem/opt/anaconda3/lib/python3.9/site-packages (from wsproto>=0.14->trio-websocket~=0.9->selenium) (0.12.0)\r\n",
      "Note: you may need to restart the kernel to use updated packages.\n"
     ]
    }
   ],
   "source": [
    "pip install selenium"
   ],
   "metadata": {
    "collapsed": false,
    "pycharm": {
     "name": "#%%\n"
    }
   }
  },
  {
   "cell_type": "code",
   "execution_count": 19,
   "outputs": [],
   "source": [
    "from selenium import webdriver\n",
    "from bs4 import BeautifulSoup\n",
    "import pandas as pd"
   ],
   "metadata": {
    "collapsed": false,
    "pycharm": {
     "name": "#%%\n"
    }
   }
  },
  {
   "cell_type": "code",
   "execution_count": 3,
   "outputs": [
    {
     "name": "stdout",
     "output_type": "stream",
     "text": [
      "\n"
     ]
    },
    {
     "name": "stderr",
     "output_type": "stream",
     "text": [
      "/var/folders/zc/g_y3v0fd44z26gwxf6kc_bj40000gn/T/ipykernel_60526/2178917076.py:4: DeprecationWarning: executable_path has been deprecated, please pass in a Service object\n",
      "  driver = webdriver.Chrome(ChromeDriverManager().install())\n"
     ]
    }
   ],
   "source": [
    "driver = webdriver.Chrome('/usr/lib/chromium-browser/chromedriver')\n"
   ],
   "metadata": {
    "collapsed": false,
    "pycharm": {
     "name": "#%%\n"
    }
   }
  },
  {
   "cell_type": "code",
   "execution_count": 1,
   "outputs": [
    {
     "ename": "NameError",
     "evalue": "name 'driver' is not defined",
     "output_type": "error",
     "traceback": [
      "\u001B[0;31m---------------------------------------------------------------------------\u001B[0m",
      "\u001B[0;31mNameError\u001B[0m                                 Traceback (most recent call last)",
      "\u001B[0;32m/var/folders/zc/g_y3v0fd44z26gwxf6kc_bj40000gn/T/ipykernel_3184/381838321.py\u001B[0m in \u001B[0;36m<module>\u001B[0;34m\u001B[0m\n\u001B[1;32m      2\u001B[0m \u001B[0mprices\u001B[0m \u001B[0;34m=\u001B[0m \u001B[0;34m[\u001B[0m\u001B[0;34m]\u001B[0m\u001B[0;34m\u001B[0m\u001B[0;34m\u001B[0m\u001B[0m\n\u001B[1;32m      3\u001B[0m \u001B[0;34m\u001B[0m\u001B[0m\n\u001B[0;32m----> 4\u001B[0;31m \u001B[0mdriver\u001B[0m\u001B[0;34m.\u001B[0m\u001B[0mget\u001B[0m\u001B[0;34m(\u001B[0m\u001B[0;34m'https://www.flipkart.com/search?q=Laptops&otracker=search&otracker1=search&marketplace=FLIPKART&as-show=off&as=off&as-pos=1&as-type=HISTORY&as-backfill=on'\u001B[0m\u001B[0;34m)\u001B[0m\u001B[0;34m\u001B[0m\u001B[0;34m\u001B[0m\u001B[0m\n\u001B[0m\u001B[1;32m      5\u001B[0m \u001B[0;34m\u001B[0m\u001B[0m\n\u001B[1;32m      6\u001B[0m \u001B[0mcontent\u001B[0m \u001B[0;34m=\u001B[0m \u001B[0mdriver\u001B[0m\u001B[0;34m.\u001B[0m\u001B[0mpage_source\u001B[0m\u001B[0;34m\u001B[0m\u001B[0;34m\u001B[0m\u001B[0m\n",
      "\u001B[0;31mNameError\u001B[0m: name 'driver' is not defined"
     ]
    }
   ],
   "source": [
    "products = []\n",
    "prices = []\n",
    "\n",
    "driver.get('https://www.flipkart.com/search?q=Laptops&otracker=search&otracker1=search&marketplace=FLIPKART&as-show=off&as=off&as-pos=1&as-type=HISTORY&as-backfill=on')\n",
    "\n",
    "content = driver.page_source\n",
    "soup = BeautifulSoup(content)\n"
   ],
   "metadata": {
    "collapsed": false,
    "pycharm": {
     "name": "#%%\n"
    }
   }
  },
  {
   "cell_type": "code",
   "execution_count": 16,
   "outputs": [],
   "source": [
    "for a in soup.find_all(attrs={'class':'_1fQZEK'}):\n",
    "    name = a.find('div',attrs = {'class':'_4rR01T'})\n",
    "    price = a.find('div',attrs={'class':'_30jeq3 _1_WHN1'})\n",
    "    products.append(name.text)\n",
    "    prices.append(price.text)"
   ],
   "metadata": {
    "collapsed": false,
    "pycharm": {
     "name": "#%%\n"
    }
   }
  },
  {
   "cell_type": "code",
   "execution_count": 17,
   "outputs": [],
   "source": [
    "df = pd.DataFrame({'Product Name':products,'Price':price})\n",
    "df.to_csv('product.csv',inde=False,encoding='utf-8')"
   ],
   "metadata": {
    "collapsed": false,
    "pycharm": {
     "name": "#%%\n"
    }
   }
  },
  {
   "cell_type": "markdown",
   "source": [
    "<h1>Request</h1>"
   ],
   "metadata": {
    "collapsed": false
   }
  },
  {
   "cell_type": "code",
   "execution_count": 23,
   "outputs": [
    {
     "name": "stdout",
     "output_type": "stream",
     "text": [
      "Collecting requests_html\r\n",
      "  Downloading requests_html-0.10.0-py3-none-any.whl (13 kB)\r\n",
      "Collecting fake-useragent\r\n",
      "  Downloading fake-useragent-0.1.11.tar.gz (13 kB)\r\n",
      "Collecting parse\r\n",
      "  Downloading parse-1.19.0.tar.gz (30 kB)\r\n",
      "Requirement already satisfied: bs4 in /Users/syedamariumfaheem/opt/anaconda3/lib/python3.9/site-packages (from requests_html) (0.0.1)\r\n",
      "Collecting w3lib\r\n",
      "  Downloading w3lib-1.22.0-py2.py3-none-any.whl (20 kB)\r\n",
      "Collecting pyquery\r\n",
      "  Using cached pyquery-1.4.3-py3-none-any.whl (22 kB)\r\n",
      "Collecting pyppeteer>=0.0.14\r\n",
      "  Downloading pyppeteer-1.0.2-py3-none-any.whl (83 kB)\r\n",
      "\u001B[K     |████████████████████████████████| 83 kB 371 kB/s eta 0:00:01\r\n",
      "\u001B[?25hRequirement already satisfied: requests in /Users/syedamariumfaheem/opt/anaconda3/lib/python3.9/site-packages (from requests_html) (2.26.0)\r\n",
      "Requirement already satisfied: appdirs<2.0.0,>=1.4.3 in /Users/syedamariumfaheem/opt/anaconda3/lib/python3.9/site-packages (from pyppeteer>=0.0.14->requests_html) (1.4.4)\r\n",
      "Collecting pyee<9.0.0,>=8.1.0\r\n",
      "  Downloading pyee-8.2.2-py2.py3-none-any.whl (12 kB)\r\n",
      "Requirement already satisfied: tqdm<5.0.0,>=4.42.1 in /Users/syedamariumfaheem/opt/anaconda3/lib/python3.9/site-packages (from pyppeteer>=0.0.14->requests_html) (4.62.3)\r\n",
      "Collecting websockets<11.0,>=10.0\r\n",
      "  Downloading websockets-10.3-cp39-cp39-macosx_10_9_x86_64.whl (97 kB)\r\n",
      "\u001B[K     |████████████████████████████████| 97 kB 490 kB/s eta 0:00:01\r\n",
      "\u001B[?25hRequirement already satisfied: urllib3<2.0.0,>=1.25.8 in /Users/syedamariumfaheem/opt/anaconda3/lib/python3.9/site-packages (from pyppeteer>=0.0.14->requests_html) (1.26.7)\r\n",
      "Requirement already satisfied: importlib-metadata>=1.4 in /Users/syedamariumfaheem/opt/anaconda3/lib/python3.9/site-packages (from pyppeteer>=0.0.14->requests_html) (4.8.1)\r\n",
      "Requirement already satisfied: certifi>=2021 in /Users/syedamariumfaheem/opt/anaconda3/lib/python3.9/site-packages (from pyppeteer>=0.0.14->requests_html) (2021.10.8)\r\n",
      "Requirement already satisfied: zipp>=0.5 in /Users/syedamariumfaheem/opt/anaconda3/lib/python3.9/site-packages (from importlib-metadata>=1.4->pyppeteer>=0.0.14->requests_html) (3.6.0)\r\n",
      "Requirement already satisfied: beautifulsoup4 in /Users/syedamariumfaheem/opt/anaconda3/lib/python3.9/site-packages (from bs4->requests_html) (4.10.0)\r\n",
      "Requirement already satisfied: soupsieve>1.2 in /Users/syedamariumfaheem/opt/anaconda3/lib/python3.9/site-packages (from beautifulsoup4->bs4->requests_html) (2.2.1)\r\n",
      "Collecting cssselect>0.7.9\r\n",
      "  Using cached cssselect-1.1.0-py2.py3-none-any.whl (16 kB)\r\n",
      "Requirement already satisfied: lxml>=2.1 in /Users/syedamariumfaheem/opt/anaconda3/lib/python3.9/site-packages (from pyquery->requests_html) (4.6.3)\r\n",
      "Requirement already satisfied: charset-normalizer~=2.0.0 in /Users/syedamariumfaheem/opt/anaconda3/lib/python3.9/site-packages (from requests->requests_html) (2.0.4)\r\n",
      "Requirement already satisfied: idna<4,>=2.5 in /Users/syedamariumfaheem/opt/anaconda3/lib/python3.9/site-packages (from requests->requests_html) (3.2)\r\n",
      "Requirement already satisfied: six>=1.4.1 in /Users/syedamariumfaheem/opt/anaconda3/lib/python3.9/site-packages (from w3lib->requests_html) (1.16.0)\r\n",
      "Building wheels for collected packages: fake-useragent, parse\r\n",
      "  Building wheel for fake-useragent (setup.py) ... \u001B[?25ldone\r\n",
      "\u001B[?25h  Created wheel for fake-useragent: filename=fake_useragent-0.1.11-py3-none-any.whl size=13502 sha256=7597c8ff93e58da64d2371c594ee8b562fb216a40ed4ae663f5bfca66d71d963\r\n",
      "  Stored in directory: /Users/syedamariumfaheem/Library/Caches/pip/wheels/ae/e7/76/7dd44644d065268ab0e1b4fa2e802fa4bb0157717b7d6c6d92\r\n",
      "  Building wheel for parse (setup.py) ... \u001B[?25ldone\r\n",
      "\u001B[?25h  Created wheel for parse: filename=parse-1.19.0-py3-none-any.whl size=24591 sha256=67a17e025e94ec689e1203748dcab258632a2142418c5a1d343359248cdc7359\r\n",
      "  Stored in directory: /Users/syedamariumfaheem/Library/Caches/pip/wheels/d6/9c/58/ee3ba36897e890f3ad81e9b730791a153fce20caa4a8a474df\r\n",
      "Successfully built fake-useragent parse\r\n",
      "Installing collected packages: websockets, pyee, cssselect, w3lib, pyquery, pyppeteer, parse, fake-useragent, requests-html\r\n",
      "Successfully installed cssselect-1.1.0 fake-useragent-0.1.11 parse-1.19.0 pyee-8.2.2 pyppeteer-1.0.2 pyquery-1.4.3 requests-html-0.10.0 w3lib-1.22.0 websockets-10.3\r\n",
      "Note: you may need to restart the kernel to use updated packages.\n"
     ]
    }
   ],
   "source": [
    "pip install requests_html"
   ],
   "metadata": {
    "collapsed": false,
    "pycharm": {
     "name": "#%%\n"
    }
   }
  },
  {
   "cell_type": "code",
   "execution_count": 37,
   "outputs": [],
   "source": [
    "import requests_html\n",
    "from requests_html import HTMLSession\n",
    "import pandas as pd\n",
    "\n",
    "session = HTMLSession()\n",
    "url = 'https://github.com/kamlesh11?tab=repositories'\n",
    "response = session.get(url)\n",
    "\n",
    "container = response.html.find(\"#user-repositories-list\",first=True)\n",
    "list = container.find('li')"
   ],
   "metadata": {
    "collapsed": false,
    "pycharm": {
     "name": "#%%\n"
    }
   }
  },
  {
   "cell_type": "code",
   "execution_count": 41,
   "outputs": [
    {
     "name": "stdout",
     "output_type": "stream",
     "text": [
      "['Text-Summarization-Using-NLP Public', 'Jupyter Notebook Updated', 'Nov 7, 2021', 'OCR-with-tensorflow-and-opencv Public', 'Jupyter Notebook', '4', '6 Updated', 'Oct 12, 2021', 'jenkins Public', 'Java Updated', 'Sep 9, 2021', 'App-Development Public', 'Dart Updated', 'Apr 2, 2021', 'Credit-Card-Fraud-Detection Public', 'Jupyter Notebook', '3 Updated', 'Mar 21, 2021', 'Object-Detection-Using-SSD-MobileNet Public', 'Python', '1 Updated', 'Nov 5, 2020', 'object-detection-using-yolo Public', 'Python Updated', 'Nov 4, 2020', 'pandas Public', 'Forked from pandas-dev/pandas', 'Flexible and powerful data analysis / manipulation library for Python, providing labeled data structures similar to R data.frame objects, statistical functions, and much more', 'Python', '14,742', 'BSD 3-Clause \"New\" or \"Revised\" License Updated', 'Oct 11, 2020', 'Python_Calculator Public', 'Python Updated', 'Oct 5, 2020', 'Dynamic-Android-App-Using-Firebase-Realtime-Database Public', 'Java Updated', 'Jul 8, 2020', 'Diabetic-Retinopathy-Detection-Using-Deep-Learning Public', 'Jupyter Notebook Updated', 'Mar 10, 2020', 'wolf-killer-game Public', 'Wolf killer console based game in c++', 'Updated', 'Feb 29, 2020', 'Footer', '© 2022 GitHub, Inc.', 'Footer navigation', 'Terms', 'Privacy', 'Security', 'Status', 'Docs', 'Contact GitHub', 'Pricing', 'API', 'Training', 'Blog', 'About', 'You can’t perform that action at this time.', 'You signed in with another tab or window. Reload to refresh your session. You signed out in another tab or window. Reload to refresh your session.']\n",
      "['OCR-with-tensorflow-and-opencv Public', 'Jupyter Notebook', '4', '6 Updated', 'Oct 12, 2021', 'jenkins Public', 'Java Updated', 'Sep 9, 2021', 'App-Development Public', 'Dart Updated', 'Apr 2, 2021', 'Credit-Card-Fraud-Detection Public', 'Jupyter Notebook', '3 Updated', 'Mar 21, 2021', 'Object-Detection-Using-SSD-MobileNet Public', 'Python', '1 Updated', 'Nov 5, 2020', 'object-detection-using-yolo Public', 'Python Updated', 'Nov 4, 2020', 'pandas Public', 'Forked from pandas-dev/pandas', 'Flexible and powerful data analysis / manipulation library for Python, providing labeled data structures similar to R data.frame objects, statistical functions, and much more', 'Python', '14,742', 'BSD 3-Clause \"New\" or \"Revised\" License Updated', 'Oct 11, 2020', 'Python_Calculator Public', 'Python Updated', 'Oct 5, 2020', 'Dynamic-Android-App-Using-Firebase-Realtime-Database Public', 'Java Updated', 'Jul 8, 2020', 'Diabetic-Retinopathy-Detection-Using-Deep-Learning Public', 'Jupyter Notebook Updated', 'Mar 10, 2020', 'wolf-killer-game Public', 'Wolf killer console based game in c++', 'Updated', 'Feb 29, 2020', 'Footer', '© 2022 GitHub, Inc.', 'Footer navigation', 'Terms', 'Privacy', 'Security', 'Status', 'Docs', 'Contact GitHub', 'Pricing', 'API', 'Training', 'Blog', 'About', 'You can’t perform that action at this time.', 'You signed in with another tab or window. Reload to refresh your session. You signed out in another tab or window. Reload to refresh your session.']\n",
      "['jenkins Public', 'Java Updated', 'Sep 9, 2021', 'App-Development Public', 'Dart Updated', 'Apr 2, 2021', 'Credit-Card-Fraud-Detection Public', 'Jupyter Notebook', '3 Updated', 'Mar 21, 2021', 'Object-Detection-Using-SSD-MobileNet Public', 'Python', '1 Updated', 'Nov 5, 2020', 'object-detection-using-yolo Public', 'Python Updated', 'Nov 4, 2020', 'pandas Public', 'Forked from pandas-dev/pandas', 'Flexible and powerful data analysis / manipulation library for Python, providing labeled data structures similar to R data.frame objects, statistical functions, and much more', 'Python', '14,742', 'BSD 3-Clause \"New\" or \"Revised\" License Updated', 'Oct 11, 2020', 'Python_Calculator Public', 'Python Updated', 'Oct 5, 2020', 'Dynamic-Android-App-Using-Firebase-Realtime-Database Public', 'Java Updated', 'Jul 8, 2020', 'Diabetic-Retinopathy-Detection-Using-Deep-Learning Public', 'Jupyter Notebook Updated', 'Mar 10, 2020', 'wolf-killer-game Public', 'Wolf killer console based game in c++', 'Updated', 'Feb 29, 2020', 'Footer', '© 2022 GitHub, Inc.', 'Footer navigation', 'Terms', 'Privacy', 'Security', 'Status', 'Docs', 'Contact GitHub', 'Pricing', 'API', 'Training', 'Blog', 'About', 'You can’t perform that action at this time.', 'You signed in with another tab or window. Reload to refresh your session. You signed out in another tab or window. Reload to refresh your session.']\n",
      "['App-Development Public', 'Dart Updated', 'Apr 2, 2021', 'Credit-Card-Fraud-Detection Public', 'Jupyter Notebook', '3 Updated', 'Mar 21, 2021', 'Object-Detection-Using-SSD-MobileNet Public', 'Python', '1 Updated', 'Nov 5, 2020', 'object-detection-using-yolo Public', 'Python Updated', 'Nov 4, 2020', 'pandas Public', 'Forked from pandas-dev/pandas', 'Flexible and powerful data analysis / manipulation library for Python, providing labeled data structures similar to R data.frame objects, statistical functions, and much more', 'Python', '14,742', 'BSD 3-Clause \"New\" or \"Revised\" License Updated', 'Oct 11, 2020', 'Python_Calculator Public', 'Python Updated', 'Oct 5, 2020', 'Dynamic-Android-App-Using-Firebase-Realtime-Database Public', 'Java Updated', 'Jul 8, 2020', 'Diabetic-Retinopathy-Detection-Using-Deep-Learning Public', 'Jupyter Notebook Updated', 'Mar 10, 2020', 'wolf-killer-game Public', 'Wolf killer console based game in c++', 'Updated', 'Feb 29, 2020', 'Footer', '© 2022 GitHub, Inc.', 'Footer navigation', 'Terms', 'Privacy', 'Security', 'Status', 'Docs', 'Contact GitHub', 'Pricing', 'API', 'Training', 'Blog', 'About', 'You can’t perform that action at this time.', 'You signed in with another tab or window. Reload to refresh your session. You signed out in another tab or window. Reload to refresh your session.']\n",
      "['Credit-Card-Fraud-Detection Public', 'Jupyter Notebook', '3 Updated', 'Mar 21, 2021', 'Object-Detection-Using-SSD-MobileNet Public', 'Python', '1 Updated', 'Nov 5, 2020', 'object-detection-using-yolo Public', 'Python Updated', 'Nov 4, 2020', 'pandas Public', 'Forked from pandas-dev/pandas', 'Flexible and powerful data analysis / manipulation library for Python, providing labeled data structures similar to R data.frame objects, statistical functions, and much more', 'Python', '14,742', 'BSD 3-Clause \"New\" or \"Revised\" License Updated', 'Oct 11, 2020', 'Python_Calculator Public', 'Python Updated', 'Oct 5, 2020', 'Dynamic-Android-App-Using-Firebase-Realtime-Database Public', 'Java Updated', 'Jul 8, 2020', 'Diabetic-Retinopathy-Detection-Using-Deep-Learning Public', 'Jupyter Notebook Updated', 'Mar 10, 2020', 'wolf-killer-game Public', 'Wolf killer console based game in c++', 'Updated', 'Feb 29, 2020', 'Footer', '© 2022 GitHub, Inc.', 'Footer navigation', 'Terms', 'Privacy', 'Security', 'Status', 'Docs', 'Contact GitHub', 'Pricing', 'API', 'Training', 'Blog', 'About', 'You can’t perform that action at this time.', 'You signed in with another tab or window. Reload to refresh your session. You signed out in another tab or window. Reload to refresh your session.']\n",
      "['Object-Detection-Using-SSD-MobileNet Public', 'Python', '1 Updated', 'Nov 5, 2020', 'object-detection-using-yolo Public', 'Python Updated', 'Nov 4, 2020', 'pandas Public', 'Forked from pandas-dev/pandas', 'Flexible and powerful data analysis / manipulation library for Python, providing labeled data structures similar to R data.frame objects, statistical functions, and much more', 'Python', '14,742', 'BSD 3-Clause \"New\" or \"Revised\" License Updated', 'Oct 11, 2020', 'Python_Calculator Public', 'Python Updated', 'Oct 5, 2020', 'Dynamic-Android-App-Using-Firebase-Realtime-Database Public', 'Java Updated', 'Jul 8, 2020', 'Diabetic-Retinopathy-Detection-Using-Deep-Learning Public', 'Jupyter Notebook Updated', 'Mar 10, 2020', 'wolf-killer-game Public', 'Wolf killer console based game in c++', 'Updated', 'Feb 29, 2020', 'Footer', '© 2022 GitHub, Inc.', 'Footer navigation', 'Terms', 'Privacy', 'Security', 'Status', 'Docs', 'Contact GitHub', 'Pricing', 'API', 'Training', 'Blog', 'About', 'You can’t perform that action at this time.', 'You signed in with another tab or window. Reload to refresh your session. You signed out in another tab or window. Reload to refresh your session.']\n",
      "['object-detection-using-yolo Public', 'Python Updated', 'Nov 4, 2020', 'pandas Public', 'Forked from pandas-dev/pandas', 'Flexible and powerful data analysis / manipulation library for Python, providing labeled data structures similar to R data.frame objects, statistical functions, and much more', 'Python', '14,742', 'BSD 3-Clause \"New\" or \"Revised\" License Updated', 'Oct 11, 2020', 'Python_Calculator Public', 'Python Updated', 'Oct 5, 2020', 'Dynamic-Android-App-Using-Firebase-Realtime-Database Public', 'Java Updated', 'Jul 8, 2020', 'Diabetic-Retinopathy-Detection-Using-Deep-Learning Public', 'Jupyter Notebook Updated', 'Mar 10, 2020', 'wolf-killer-game Public', 'Wolf killer console based game in c++', 'Updated', 'Feb 29, 2020', 'Footer', '© 2022 GitHub, Inc.', 'Footer navigation', 'Terms', 'Privacy', 'Security', 'Status', 'Docs', 'Contact GitHub', 'Pricing', 'API', 'Training', 'Blog', 'About', 'You can’t perform that action at this time.', 'You signed in with another tab or window. Reload to refresh your session. You signed out in another tab or window. Reload to refresh your session.']\n",
      "['pandas Public', 'Forked from pandas-dev/pandas', 'Flexible and powerful data analysis / manipulation library for Python, providing labeled data structures similar to R data.frame objects, statistical functions, and much more', 'Python', '14,742', 'BSD 3-Clause \"New\" or \"Revised\" License Updated', 'Oct 11, 2020', 'Python_Calculator Public', 'Python Updated', 'Oct 5, 2020', 'Dynamic-Android-App-Using-Firebase-Realtime-Database Public', 'Java Updated', 'Jul 8, 2020', 'Diabetic-Retinopathy-Detection-Using-Deep-Learning Public', 'Jupyter Notebook Updated', 'Mar 10, 2020', 'wolf-killer-game Public', 'Wolf killer console based game in c++', 'Updated', 'Feb 29, 2020', 'Footer', '© 2022 GitHub, Inc.', 'Footer navigation', 'Terms', 'Privacy', 'Security', 'Status', 'Docs', 'Contact GitHub', 'Pricing', 'API', 'Training', 'Blog', 'About', 'You can’t perform that action at this time.', 'You signed in with another tab or window. Reload to refresh your session. You signed out in another tab or window. Reload to refresh your session.']\n",
      "['Python_Calculator Public', 'Python Updated', 'Oct 5, 2020', 'Dynamic-Android-App-Using-Firebase-Realtime-Database Public', 'Java Updated', 'Jul 8, 2020', 'Diabetic-Retinopathy-Detection-Using-Deep-Learning Public', 'Jupyter Notebook Updated', 'Mar 10, 2020', 'wolf-killer-game Public', 'Wolf killer console based game in c++', 'Updated', 'Feb 29, 2020', 'Footer', '© 2022 GitHub, Inc.', 'Footer navigation', 'Terms', 'Privacy', 'Security', 'Status', 'Docs', 'Contact GitHub', 'Pricing', 'API', 'Training', 'Blog', 'About', 'You can’t perform that action at this time.', 'You signed in with another tab or window. Reload to refresh your session. You signed out in another tab or window. Reload to refresh your session.']\n",
      "['Dynamic-Android-App-Using-Firebase-Realtime-Database Public', 'Java Updated', 'Jul 8, 2020', 'Diabetic-Retinopathy-Detection-Using-Deep-Learning Public', 'Jupyter Notebook Updated', 'Mar 10, 2020', 'wolf-killer-game Public', 'Wolf killer console based game in c++', 'Updated', 'Feb 29, 2020', 'Footer', '© 2022 GitHub, Inc.', 'Footer navigation', 'Terms', 'Privacy', 'Security', 'Status', 'Docs', 'Contact GitHub', 'Pricing', 'API', 'Training', 'Blog', 'About', 'You can’t perform that action at this time.', 'You signed in with another tab or window. Reload to refresh your session. You signed out in another tab or window. Reload to refresh your session.']\n",
      "['Diabetic-Retinopathy-Detection-Using-Deep-Learning Public', 'Jupyter Notebook Updated', 'Mar 10, 2020', 'wolf-killer-game Public', 'Wolf killer console based game in c++', 'Updated', 'Feb 29, 2020', 'Footer', '© 2022 GitHub, Inc.', 'Footer navigation', 'Terms', 'Privacy', 'Security', 'Status', 'Docs', 'Contact GitHub', 'Pricing', 'API', 'Training', 'Blog', 'About', 'You can’t perform that action at this time.', 'You signed in with another tab or window. Reload to refresh your session. You signed out in another tab or window. Reload to refresh your session.']\n",
      "['wolf-killer-game Public', 'Wolf killer console based game in c++', 'Updated', 'Feb 29, 2020', 'Footer', '© 2022 GitHub, Inc.', 'Footer navigation', 'Terms', 'Privacy', 'Security', 'Status', 'Docs', 'Contact GitHub', 'Pricing', 'API', 'Training', 'Blog', 'About', 'You can’t perform that action at this time.', 'You signed in with another tab or window. Reload to refresh your session. You signed out in another tab or window. Reload to refresh your session.']\n",
      "['Terms', 'Privacy', 'Security', 'Status', 'Docs', 'Contact GitHub', 'Pricing', 'API', 'Training', 'Blog', 'About', 'You can’t perform that action at this time.', 'You signed in with another tab or window. Reload to refresh your session. You signed out in another tab or window. Reload to refresh your session.']\n",
      "['Privacy', 'Security', 'Status', 'Docs', 'Contact GitHub', 'Pricing', 'API', 'Training', 'Blog', 'About', 'You can’t perform that action at this time.', 'You signed in with another tab or window. Reload to refresh your session. You signed out in another tab or window. Reload to refresh your session.']\n",
      "['Security', 'Status', 'Docs', 'Contact GitHub', 'Pricing', 'API', 'Training', 'Blog', 'About', 'You can’t perform that action at this time.', 'You signed in with another tab or window. Reload to refresh your session. You signed out in another tab or window. Reload to refresh your session.']\n",
      "['Status', 'Docs', 'Contact GitHub', 'Pricing', 'API', 'Training', 'Blog', 'About', 'You can’t perform that action at this time.', 'You signed in with another tab or window. Reload to refresh your session. You signed out in another tab or window. Reload to refresh your session.']\n",
      "['Docs', 'Contact GitHub', 'Pricing', 'API', 'Training', 'Blog', 'About', 'You can’t perform that action at this time.', 'You signed in with another tab or window. Reload to refresh your session. You signed out in another tab or window. Reload to refresh your session.']\n",
      "['Contact GitHub', 'Pricing', 'API', 'Training', 'Blog', 'About', 'You can’t perform that action at this time.', 'You signed in with another tab or window. Reload to refresh your session. You signed out in another tab or window. Reload to refresh your session.']\n",
      "['Pricing', 'API', 'Training', 'Blog', 'About', 'You can’t perform that action at this time.', 'You signed in with another tab or window. Reload to refresh your session. You signed out in another tab or window. Reload to refresh your session.']\n",
      "['API', 'Training', 'Blog', 'About', 'You can’t perform that action at this time.', 'You signed in with another tab or window. Reload to refresh your session. You signed out in another tab or window. Reload to refresh your session.']\n",
      "['Training', 'Blog', 'About', 'You can’t perform that action at this time.', 'You signed in with another tab or window. Reload to refresh your session. You signed out in another tab or window. Reload to refresh your session.']\n",
      "['Blog', 'About', 'You can’t perform that action at this time.', 'You signed in with another tab or window. Reload to refresh your session. You signed out in another tab or window. Reload to refresh your session.']\n",
      "['About', 'You can’t perform that action at this time.', 'You signed in with another tab or window. Reload to refresh your session. You signed out in another tab or window. Reload to refresh your session.']\n"
     ]
    }
   ],
   "source": [
    "name = []\n",
    "lang = []\n",
    "date =[]\n",
    "\n",
    "for item in list:\n",
    "    tmp = item.text.split(\"\\n\")\n",
    "    name.append(tmp[0])\n",
    "    lang.append(tmp[1]m, ,b )\n",
    "    print(tmp)"
   ],
   "metadata": {
    "collapsed": false,
    "pycharm": {
     "name": "#%%\n"
    }
   }
  },
  {
   "cell_type": "code",
   "execution_count": 37,
   "outputs": [],
   "source": [
    "name = []\n",
    "lang =[]\n",
    "date = []\n",
    "for item in list:\n",
    "    tmp = item.text.split(\"\\n\")\n",
    "    name.append(tmp[0])\n",
    "    lang.append(tmp[1])\n",
    "    date.append(tmp[2])"
   ],
   "metadata": {
    "collapsed": false,
    "pycharm": {
     "name": "#%%\n"
    }
   }
  },
  {
   "cell_type": "code",
   "execution_count": 38,
   "outputs": [
    {
     "data": {
      "text/plain": "                                                 Name  \\\n0                 Text-Summarization-Using-NLP Public   \n1               OCR-with-tensorflow-and-opencv Public   \n2                                      jenkins Public   \n3                              App-Development Public   \n4                  Credit-Card-Fraud-Detection Public   \n5         Object-Detection-Using-SSD-MobileNet Public   \n6                  object-detection-using-yolo Public   \n7                                       pandas Public   \n8                            Python_Calculator Public   \n9   Dynamic-Android-App-Using-Firebase-Realtime-Da...   \n10  Diabetic-Retinopathy-Detection-Using-Deep-Lear...   \n11                            wolf-killer-game Public   \n12                                              Terms   \n13                                            Privacy   \n14                                           Security   \n15                                             Status   \n16                                               Docs   \n17                                     Contact GitHub   \n18                                            Pricing   \n19                                                API   \n20                                           Training   \n21                                               Blog   \n22                                              About   \n\n                                       language  \\\n0                      Jupyter Notebook Updated   \n1                              Jupyter Notebook   \n2                                  Java Updated   \n3                                  Dart Updated   \n4                              Jupyter Notebook   \n5                                        Python   \n6                                Python Updated   \n7                 Forked from pandas-dev/pandas   \n8                                Python Updated   \n9                                  Java Updated   \n10                     Jupyter Notebook Updated   \n11        Wolf killer console based game in c++   \n12                                      Privacy   \n13                                     Security   \n14                                       Status   \n15                                         Docs   \n16                               Contact GitHub   \n17                                      Pricing   \n18                                          API   \n19                                     Training   \n20                                         Blog   \n21                                        About   \n22  You can’t perform that action at this time.   \n\n                                                 Date  \n0                                         Nov 7, 2021  \n1                                                   4  \n2                                         Sep 9, 2021  \n3                                         Apr 2, 2021  \n4                                           3 Updated  \n5                                           1 Updated  \n6                                         Nov 4, 2020  \n7   Flexible and powerful data analysis / manipula...  \n8                                         Oct 5, 2020  \n9                                         Jul 8, 2020  \n10                                       Mar 10, 2020  \n11                                            Updated  \n12                                           Security  \n13                                             Status  \n14                                               Docs  \n15                                     Contact GitHub  \n16                                            Pricing  \n17                                                API  \n18                                           Training  \n19                                               Blog  \n20                                              About  \n21        You can’t perform that action at this time.  \n22  You signed in with another tab or window. Relo...  ",
      "text/html": "<div>\n<style scoped>\n    .dataframe tbody tr th:only-of-type {\n        vertical-align: middle;\n    }\n\n    .dataframe tbody tr th {\n        vertical-align: top;\n    }\n\n    .dataframe thead th {\n        text-align: right;\n    }\n</style>\n<table border=\"1\" class=\"dataframe\">\n  <thead>\n    <tr style=\"text-align: right;\">\n      <th></th>\n      <th>Name</th>\n      <th>language</th>\n      <th>Date</th>\n    </tr>\n  </thead>\n  <tbody>\n    <tr>\n      <th>0</th>\n      <td>Text-Summarization-Using-NLP Public</td>\n      <td>Jupyter Notebook Updated</td>\n      <td>Nov 7, 2021</td>\n    </tr>\n    <tr>\n      <th>1</th>\n      <td>OCR-with-tensorflow-and-opencv Public</td>\n      <td>Jupyter Notebook</td>\n      <td>4</td>\n    </tr>\n    <tr>\n      <th>2</th>\n      <td>jenkins Public</td>\n      <td>Java Updated</td>\n      <td>Sep 9, 2021</td>\n    </tr>\n    <tr>\n      <th>3</th>\n      <td>App-Development Public</td>\n      <td>Dart Updated</td>\n      <td>Apr 2, 2021</td>\n    </tr>\n    <tr>\n      <th>4</th>\n      <td>Credit-Card-Fraud-Detection Public</td>\n      <td>Jupyter Notebook</td>\n      <td>3 Updated</td>\n    </tr>\n    <tr>\n      <th>5</th>\n      <td>Object-Detection-Using-SSD-MobileNet Public</td>\n      <td>Python</td>\n      <td>1 Updated</td>\n    </tr>\n    <tr>\n      <th>6</th>\n      <td>object-detection-using-yolo Public</td>\n      <td>Python Updated</td>\n      <td>Nov 4, 2020</td>\n    </tr>\n    <tr>\n      <th>7</th>\n      <td>pandas Public</td>\n      <td>Forked from pandas-dev/pandas</td>\n      <td>Flexible and powerful data analysis / manipula...</td>\n    </tr>\n    <tr>\n      <th>8</th>\n      <td>Python_Calculator Public</td>\n      <td>Python Updated</td>\n      <td>Oct 5, 2020</td>\n    </tr>\n    <tr>\n      <th>9</th>\n      <td>Dynamic-Android-App-Using-Firebase-Realtime-Da...</td>\n      <td>Java Updated</td>\n      <td>Jul 8, 2020</td>\n    </tr>\n    <tr>\n      <th>10</th>\n      <td>Diabetic-Retinopathy-Detection-Using-Deep-Lear...</td>\n      <td>Jupyter Notebook Updated</td>\n      <td>Mar 10, 2020</td>\n    </tr>\n    <tr>\n      <th>11</th>\n      <td>wolf-killer-game Public</td>\n      <td>Wolf killer console based game in c++</td>\n      <td>Updated</td>\n    </tr>\n    <tr>\n      <th>12</th>\n      <td>Terms</td>\n      <td>Privacy</td>\n      <td>Security</td>\n    </tr>\n    <tr>\n      <th>13</th>\n      <td>Privacy</td>\n      <td>Security</td>\n      <td>Status</td>\n    </tr>\n    <tr>\n      <th>14</th>\n      <td>Security</td>\n      <td>Status</td>\n      <td>Docs</td>\n    </tr>\n    <tr>\n      <th>15</th>\n      <td>Status</td>\n      <td>Docs</td>\n      <td>Contact GitHub</td>\n    </tr>\n    <tr>\n      <th>16</th>\n      <td>Docs</td>\n      <td>Contact GitHub</td>\n      <td>Pricing</td>\n    </tr>\n    <tr>\n      <th>17</th>\n      <td>Contact GitHub</td>\n      <td>Pricing</td>\n      <td>API</td>\n    </tr>\n    <tr>\n      <th>18</th>\n      <td>Pricing</td>\n      <td>API</td>\n      <td>Training</td>\n    </tr>\n    <tr>\n      <th>19</th>\n      <td>API</td>\n      <td>Training</td>\n      <td>Blog</td>\n    </tr>\n    <tr>\n      <th>20</th>\n      <td>Training</td>\n      <td>Blog</td>\n      <td>About</td>\n    </tr>\n    <tr>\n      <th>21</th>\n      <td>Blog</td>\n      <td>About</td>\n      <td>You can’t perform that action at this time.</td>\n    </tr>\n    <tr>\n      <th>22</th>\n      <td>About</td>\n      <td>You can’t perform that action at this time.</td>\n      <td>You signed in with another tab or window. Relo...</td>\n    </tr>\n  </tbody>\n</table>\n</div>"
     },
     "execution_count": 38,
     "metadata": {},
     "output_type": "execute_result"
    }
   ],
   "source": [
    "df =  pd.DataFrame({'Name':name,'language':lang,'Date':date})\n",
    "df"
   ],
   "metadata": {
    "collapsed": false,
    "pycharm": {
     "name": "#%%\n"
    }
   }
  },
  {
   "cell_type": "markdown",
   "source": [
    "<h1>Web scraping using scrapy</h1>"
   ],
   "metadata": {
    "collapsed": false
   }
  },
  {
   "cell_type": "code",
   "execution_count": 39,
   "outputs": [
    {
     "name": "stdout",
     "output_type": "stream",
     "text": [
      "Collecting scrapy\r\n",
      "  Downloading Scrapy-2.6.2-py2.py3-none-any.whl (264 kB)\r\n",
      "\u001B[K     |████████████████████████████████| 264 kB 214 kB/s eta 0:00:01\r\n",
      "\u001B[?25hCollecting parsel>=1.5.0\r\n",
      "  Downloading parsel-1.6.0-py2.py3-none-any.whl (13 kB)\r\n",
      "Collecting service-identity>=16.0.0\r\n",
      "  Downloading service_identity-21.1.0-py2.py3-none-any.whl (12 kB)\r\n",
      "Requirement already satisfied: w3lib>=1.17.0 in /Users/syedamariumfaheem/opt/anaconda3/lib/python3.9/site-packages (from scrapy) (1.22.0)\r\n",
      "Collecting itemadapter>=0.1.0\r\n",
      "  Downloading itemadapter-0.6.0-py3-none-any.whl (10 kB)\r\n",
      "Collecting Twisted>=17.9.0\r\n",
      "  Downloading Twisted-22.4.0-py3-none-any.whl (3.1 MB)\r\n",
      "\u001B[K     |████████████████████████████████| 3.1 MB 1.1 MB/s eta 0:00:01    |▌                               | 51 kB 1.5 MB/s eta 0:00:02\r\n",
      "\u001B[?25hCollecting itemloaders>=1.0.1\r\n",
      "  Downloading itemloaders-1.0.4-py3-none-any.whl (11 kB)\r\n",
      "Requirement already satisfied: zope.interface>=4.1.3 in /Users/syedamariumfaheem/opt/anaconda3/lib/python3.9/site-packages (from scrapy) (5.4.0)\r\n",
      "Requirement already satisfied: cssselect>=0.9.1 in /Users/syedamariumfaheem/opt/anaconda3/lib/python3.9/site-packages (from scrapy) (1.1.0)\r\n",
      "Collecting queuelib>=1.4.2\r\n",
      "  Downloading queuelib-1.6.2-py2.py3-none-any.whl (13 kB)\r\n",
      "Requirement already satisfied: cryptography>=2.0 in /Users/syedamariumfaheem/opt/anaconda3/lib/python3.9/site-packages (from scrapy) (3.4.8)\r\n",
      "Collecting protego>=0.1.15\r\n",
      "  Downloading Protego-0.2.1-py2.py3-none-any.whl (8.2 kB)\r\n",
      "Requirement already satisfied: setuptools in /Users/syedamariumfaheem/opt/anaconda3/lib/python3.9/site-packages (from scrapy) (58.0.4)\r\n",
      "Collecting tldextract\r\n",
      "  Downloading tldextract-3.3.1-py3-none-any.whl (93 kB)\r\n",
      "\u001B[K     |████████████████████████████████| 93 kB 1.7 MB/s eta 0:00:01\r\n",
      "\u001B[?25hCollecting PyDispatcher>=2.0.5\r\n",
      "  Downloading PyDispatcher-2.0.5.zip (47 kB)\r\n",
      "\u001B[K     |████████████████████████████████| 47 kB 853 kB/s eta 0:00:01\r\n",
      "\u001B[?25hRequirement already satisfied: lxml>=3.5.0 in /Users/syedamariumfaheem/opt/anaconda3/lib/python3.9/site-packages (from scrapy) (4.6.3)\r\n",
      "Requirement already satisfied: pyOpenSSL>=16.2.0 in /Users/syedamariumfaheem/opt/anaconda3/lib/python3.9/site-packages (from scrapy) (21.0.0)\r\n",
      "Requirement already satisfied: cffi>=1.12 in /Users/syedamariumfaheem/opt/anaconda3/lib/python3.9/site-packages (from cryptography>=2.0->scrapy) (1.14.6)\r\n",
      "Requirement already satisfied: pycparser in /Users/syedamariumfaheem/opt/anaconda3/lib/python3.9/site-packages (from cffi>=1.12->cryptography>=2.0->scrapy) (2.20)\r\n",
      "Collecting jmespath>=0.9.5\r\n",
      "  Downloading jmespath-1.0.1-py3-none-any.whl (20 kB)\r\n",
      "Requirement already satisfied: six>=1.6.0 in /Users/syedamariumfaheem/opt/anaconda3/lib/python3.9/site-packages (from parsel>=1.5.0->scrapy) (1.16.0)\r\n",
      "Requirement already satisfied: pyasn1-modules in /Users/syedamariumfaheem/opt/anaconda3/lib/python3.9/site-packages (from service-identity>=16.0.0->scrapy) (0.2.8)\r\n",
      "Requirement already satisfied: attrs>=19.1.0 in /Users/syedamariumfaheem/opt/anaconda3/lib/python3.9/site-packages (from service-identity>=16.0.0->scrapy) (20.3.0)\r\n",
      "Requirement already satisfied: pyasn1 in /Users/syedamariumfaheem/opt/anaconda3/lib/python3.9/site-packages (from service-identity>=16.0.0->scrapy) (0.4.8)\r\n",
      "Requirement already satisfied: typing-extensions>=3.6.5 in /Users/syedamariumfaheem/opt/anaconda3/lib/python3.9/site-packages (from Twisted>=17.9.0->scrapy) (3.10.0.2)\r\n",
      "Collecting incremental>=21.3.0\r\n",
      "  Downloading incremental-21.3.0-py2.py3-none-any.whl (15 kB)\r\n",
      "Collecting hyperlink>=17.1.1\r\n",
      "  Downloading hyperlink-21.0.0-py2.py3-none-any.whl (74 kB)\r\n",
      "\u001B[K     |████████████████████████████████| 74 kB 1.2 MB/s eta 0:00:01\r\n",
      "\u001B[?25hCollecting constantly>=15.1\r\n",
      "  Downloading constantly-15.1.0-py2.py3-none-any.whl (7.9 kB)\r\n",
      "Collecting Automat>=0.8.0\r\n",
      "  Downloading Automat-20.2.0-py2.py3-none-any.whl (31 kB)\r\n",
      "Requirement already satisfied: idna>=2.5 in /Users/syedamariumfaheem/opt/anaconda3/lib/python3.9/site-packages (from hyperlink>=17.1.1->Twisted>=17.9.0->scrapy) (3.2)\r\n",
      "Requirement already satisfied: filelock>=3.0.8 in /Users/syedamariumfaheem/opt/anaconda3/lib/python3.9/site-packages (from tldextract->scrapy) (3.3.1)\r\n",
      "Collecting requests-file>=1.4\r\n",
      "  Downloading requests_file-1.5.1-py2.py3-none-any.whl (3.7 kB)\r\n",
      "Requirement already satisfied: requests>=2.1.0 in /Users/syedamariumfaheem/opt/anaconda3/lib/python3.9/site-packages (from tldextract->scrapy) (2.26.0)\r\n",
      "Requirement already satisfied: urllib3<1.27,>=1.21.1 in /Users/syedamariumfaheem/opt/anaconda3/lib/python3.9/site-packages (from requests>=2.1.0->tldextract->scrapy) (1.26.7)\r\n",
      "Requirement already satisfied: charset-normalizer~=2.0.0 in /Users/syedamariumfaheem/opt/anaconda3/lib/python3.9/site-packages (from requests>=2.1.0->tldextract->scrapy) (2.0.4)\r\n",
      "Requirement already satisfied: certifi>=2017.4.17 in /Users/syedamariumfaheem/opt/anaconda3/lib/python3.9/site-packages (from requests>=2.1.0->tldextract->scrapy) (2021.10.8)\r\n",
      "Building wheels for collected packages: PyDispatcher\r\n",
      "  Building wheel for PyDispatcher (setup.py) ... \u001B[?25ldone\r\n",
      "\u001B[?25h  Created wheel for PyDispatcher: filename=PyDispatcher-2.0.5-py3-none-any.whl size=11515 sha256=9e18e6120d7a42a3fea3784184deb481ea852ab63d28ba05f963368b3ae8bf66\r\n",
      "  Stored in directory: /Users/syedamariumfaheem/Library/Caches/pip/wheels/a5/de/8a/4b52190a95d99c042ec6bd5ad2de3a3c1b5ce71d69f0bbd036\r\n",
      "Successfully built PyDispatcher\r\n",
      "Installing collected packages: requests-file, parsel, jmespath, itemadapter, incremental, hyperlink, constantly, Automat, Twisted, tldextract, service-identity, queuelib, PyDispatcher, protego, itemloaders, scrapy\r\n",
      "Successfully installed Automat-20.2.0 PyDispatcher-2.0.5 Twisted-22.4.0 constantly-15.1.0 hyperlink-21.0.0 incremental-21.3.0 itemadapter-0.6.0 itemloaders-1.0.4 jmespath-1.0.1 parsel-1.6.0 protego-0.2.1 queuelib-1.6.2 requests-file-1.5.1 scrapy-2.6.2 service-identity-21.1.0 tldextract-3.3.1\r\n",
      "Note: you may need to restart the kernel to use updated packages.\n"
     ]
    }
   ],
   "source": [
    "pip install scrapy"
   ],
   "metadata": {
    "collapsed": false,
    "pycharm": {
     "name": "#%%\n"
    }
   }
  },
  {
   "cell_type": "markdown",
   "source": [
    "<h1>Practice</h1>"
   ],
   "metadata": {
    "collapsed": false
   }
  },
  {
   "cell_type": "code",
   "execution_count": 40,
   "outputs": [],
   "source": [
    "import pandas as pd\n",
    "from bs4 import BeautifulSoup\n",
    "import requests"
   ],
   "metadata": {
    "collapsed": false,
    "pycharm": {
     "name": "#%%\n"
    }
   }
  },
  {
   "cell_type": "code",
   "execution_count": 51,
   "outputs": [],
   "source": [
    "stories_data = []\n",
    "for month in range(1,13):\n",
    "    if month in [1,3,5,7,8,10,12]:\n",
    "        n_days = 31\n",
    "    elif month in [4,6,9,11]:\n",
    "        n_days = 30\n",
    "    else:\n",
    "        n_days=28\n",
    "\n",
    "    for day in range(1,n_days+1):\n",
    "        month,day = str(month),str(day)\n",
    "\n",
    "        if len(month)==1:\n",
    "            month = f'0{month}'\n",
    "        if len(day)==1:\n",
    "            day=f'0{day}'\n",
    "\n",
    "\n"
   ],
   "metadata": {
    "collapsed": false,
    "pycharm": {
     "name": "#%%\n"
    }
   }
  },
  {
   "cell_type": "code",
   "execution_count": 47,
   "outputs": [],
   "source": [
    "date = f'{month}/{day}/2019'\n",
    "url=f'https://medium.com/swlh/archive/2019/{month}/{day}'"
   ],
   "metadata": {
    "collapsed": false,
    "pycharm": {
     "name": "#%%\n"
    }
   }
  },
  {
   "cell_type": "code",
   "execution_count": 54,
   "outputs": [],
   "source": [
    "page = requests.get(url)\n",
    "soup = BeautifulSoup(page.text,'html.parser')\n"
   ],
   "metadata": {
    "collapsed": false,
    "pycharm": {
     "name": "#%%\n"
    }
   }
  },
  {
   "cell_type": "code",
   "execution_count": 55,
   "outputs": [],
   "source": [
    "stories = soup.find_all('div',class_=\"streamItem streamItem--postPreview js-streamItem\")"
   ],
   "metadata": {
    "collapsed": false,
    "pycharm": {
     "name": "#%%\n"
    }
   }
  },
  {
   "cell_type": "code",
   "execution_count": 81,
   "outputs": [
    {
     "name": "stdout",
     "output_type": "stream",
     "text": [
      "289\n",
      "211\n",
      "216\n",
      "583\n",
      "73\n",
      "182\n",
      "225\n",
      "372\n",
      "197\n",
      "303\n",
      "216\n",
      "446\n",
      "133\n",
      "493\n",
      "670\n",
      "678\n",
      "165\n",
      "129\n",
      "250\n",
      "2K\n",
      "0\n",
      "354\n",
      "295\n",
      "151\n",
      "86\n",
      "231\n",
      "127\n",
      "186\n",
      "520\n",
      "405\n",
      "96\n",
      "68\n",
      "59\n",
      "67\n",
      "129\n",
      "64\n",
      "64\n",
      "155\n",
      "53\n",
      "191\n",
      "475\n",
      "69\n",
      "222\n",
      "62\n",
      "583\n",
      "98\n",
      "64\n",
      "130\n",
      "90\n",
      "94\n",
      "154\n",
      "72\n",
      "103\n",
      "123\n",
      "151\n",
      "58\n",
      "116\n",
      "90\n",
      "193\n",
      "74\n",
      "52\n",
      "489\n",
      "128\n",
      "127\n",
      "221\n",
      "130\n",
      "51\n",
      "73\n",
      "51\n",
      "211\n",
      "52\n",
      "50\n",
      "50\n",
      "205\n",
      "121\n",
      "92\n",
      "100\n",
      "55\n",
      "56\n"
     ]
    }
   ],
   "source": [
    "for story in stories:\n",
    "    each_story=[]\n",
    "    author_box = story.find('div',class_='postMetaInline u-floatLeft u-sm-maxWidthFullWidth')\n",
    "    author_url = author_box.find('a')['href']\n",
    "    try:\n",
    "        reading_time = author_box.find('span',class_='readingTime')['title']\n",
    "    except:\n",
    "        continue\n",
    "    title = story.find('h3').text if story.find('h3') else '-'\n",
    "    subtitle = story.find('h4').text if story.find('h4')  else '-'\n",
    "\n",
    "    if story.find('button',class_='button button--chromeless u-baseColor--buttonNormal js-multirecommendCountButton u-disablePointerEvents'):\n",
    "        claps = story.find('button',class_='button button--chromeless u-baseColor--buttonNormal js-multirecommendCountButton u-disablePointerEvents').text\n",
    "    else:\n",
    "        claps = 0\n",
    "    print(claps)\n"
   ],
   "metadata": {
    "collapsed": false,
    "pycharm": {
     "name": "#%%\n"
    }
   }
  },
  {
   "cell_type": "code",
   "execution_count": 16,
   "outputs": [],
   "source": [
    "import requests"
   ],
   "metadata": {
    "collapsed": false,
    "pycharm": {
     "name": "#%%\n"
    }
   }
  },
  {
   "cell_type": "code",
   "execution_count": 35,
   "outputs": [],
   "source": [
    "for month in range(1,13):\n",
    "    if month in [1,3,5,7,8,10,12]:\n",
    "        n_days=31\n",
    "    elif month in [4,6,9,11]:\n",
    "        n_days = 30\n",
    "    else:\n",
    "        n_days=28\n",
    "\n",
    "    for day in range(1,n_days+1):\n",
    "        month,day = str(month),str(day)\n",
    "\n",
    "        if len(month)==1:\n",
    "            month = f'0{month}'\n",
    "        if len(day)==1:\n",
    "            day = f'0{day}'"
   ],
   "metadata": {
    "collapsed": false,
    "pycharm": {
     "name": "#%%\n"
    }
   }
  },
  {
   "cell_type": "code",
   "execution_count": 17,
   "outputs": [
    {
     "ename": "ConnectionError",
     "evalue": "HTTPSConnectionPool(host='medium.com', port=443): Max retries exceeded with url: /swlh/archive/2019/12/31 (Caused by NewConnectionError('<urllib3.connection.HTTPSConnection object at 0x7f9579f3f250>: Failed to establish a new connection: [Errno 8] nodename nor servname provided, or not known'))",
     "output_type": "error",
     "traceback": [
      "\u001B[0;31m---------------------------------------------------------------------------\u001B[0m",
      "\u001B[0;31mgaierror\u001B[0m                                  Traceback (most recent call last)",
      "\u001B[0;32m~/opt/anaconda3/lib/python3.9/site-packages/urllib3/connection.py\u001B[0m in \u001B[0;36m_new_conn\u001B[0;34m(self)\u001B[0m\n\u001B[1;32m    173\u001B[0m         \u001B[0;32mtry\u001B[0m\u001B[0;34m:\u001B[0m\u001B[0;34m\u001B[0m\u001B[0;34m\u001B[0m\u001B[0m\n\u001B[0;32m--> 174\u001B[0;31m             conn = connection.create_connection(\n\u001B[0m\u001B[1;32m    175\u001B[0m                 \u001B[0;34m(\u001B[0m\u001B[0mself\u001B[0m\u001B[0;34m.\u001B[0m\u001B[0m_dns_host\u001B[0m\u001B[0;34m,\u001B[0m \u001B[0mself\u001B[0m\u001B[0;34m.\u001B[0m\u001B[0mport\u001B[0m\u001B[0;34m)\u001B[0m\u001B[0;34m,\u001B[0m \u001B[0mself\u001B[0m\u001B[0;34m.\u001B[0m\u001B[0mtimeout\u001B[0m\u001B[0;34m,\u001B[0m \u001B[0;34m**\u001B[0m\u001B[0mextra_kw\u001B[0m\u001B[0;34m\u001B[0m\u001B[0;34m\u001B[0m\u001B[0m\n",
      "\u001B[0;32m~/opt/anaconda3/lib/python3.9/site-packages/urllib3/util/connection.py\u001B[0m in \u001B[0;36mcreate_connection\u001B[0;34m(address, timeout, source_address, socket_options)\u001B[0m\n\u001B[1;32m     72\u001B[0m \u001B[0;34m\u001B[0m\u001B[0m\n\u001B[0;32m---> 73\u001B[0;31m     \u001B[0;32mfor\u001B[0m \u001B[0mres\u001B[0m \u001B[0;32min\u001B[0m \u001B[0msocket\u001B[0m\u001B[0;34m.\u001B[0m\u001B[0mgetaddrinfo\u001B[0m\u001B[0;34m(\u001B[0m\u001B[0mhost\u001B[0m\u001B[0;34m,\u001B[0m \u001B[0mport\u001B[0m\u001B[0;34m,\u001B[0m \u001B[0mfamily\u001B[0m\u001B[0;34m,\u001B[0m \u001B[0msocket\u001B[0m\u001B[0;34m.\u001B[0m\u001B[0mSOCK_STREAM\u001B[0m\u001B[0;34m)\u001B[0m\u001B[0;34m:\u001B[0m\u001B[0;34m\u001B[0m\u001B[0;34m\u001B[0m\u001B[0m\n\u001B[0m\u001B[1;32m     74\u001B[0m         \u001B[0maf\u001B[0m\u001B[0;34m,\u001B[0m \u001B[0msocktype\u001B[0m\u001B[0;34m,\u001B[0m \u001B[0mproto\u001B[0m\u001B[0;34m,\u001B[0m \u001B[0mcanonname\u001B[0m\u001B[0;34m,\u001B[0m \u001B[0msa\u001B[0m \u001B[0;34m=\u001B[0m \u001B[0mres\u001B[0m\u001B[0;34m\u001B[0m\u001B[0;34m\u001B[0m\u001B[0m\n",
      "\u001B[0;32m~/opt/anaconda3/lib/python3.9/socket.py\u001B[0m in \u001B[0;36mgetaddrinfo\u001B[0;34m(host, port, family, type, proto, flags)\u001B[0m\n\u001B[1;32m    953\u001B[0m     \u001B[0maddrlist\u001B[0m \u001B[0;34m=\u001B[0m \u001B[0;34m[\u001B[0m\u001B[0;34m]\u001B[0m\u001B[0;34m\u001B[0m\u001B[0;34m\u001B[0m\u001B[0m\n\u001B[0;32m--> 954\u001B[0;31m     \u001B[0;32mfor\u001B[0m \u001B[0mres\u001B[0m \u001B[0;32min\u001B[0m \u001B[0m_socket\u001B[0m\u001B[0;34m.\u001B[0m\u001B[0mgetaddrinfo\u001B[0m\u001B[0;34m(\u001B[0m\u001B[0mhost\u001B[0m\u001B[0;34m,\u001B[0m \u001B[0mport\u001B[0m\u001B[0;34m,\u001B[0m \u001B[0mfamily\u001B[0m\u001B[0;34m,\u001B[0m \u001B[0mtype\u001B[0m\u001B[0;34m,\u001B[0m \u001B[0mproto\u001B[0m\u001B[0;34m,\u001B[0m \u001B[0mflags\u001B[0m\u001B[0;34m)\u001B[0m\u001B[0;34m:\u001B[0m\u001B[0;34m\u001B[0m\u001B[0;34m\u001B[0m\u001B[0m\n\u001B[0m\u001B[1;32m    955\u001B[0m         \u001B[0maf\u001B[0m\u001B[0;34m,\u001B[0m \u001B[0msocktype\u001B[0m\u001B[0;34m,\u001B[0m \u001B[0mproto\u001B[0m\u001B[0;34m,\u001B[0m \u001B[0mcanonname\u001B[0m\u001B[0;34m,\u001B[0m \u001B[0msa\u001B[0m \u001B[0;34m=\u001B[0m \u001B[0mres\u001B[0m\u001B[0;34m\u001B[0m\u001B[0;34m\u001B[0m\u001B[0m\n",
      "\u001B[0;31mgaierror\u001B[0m: [Errno 8] nodename nor servname provided, or not known",
      "\nDuring handling of the above exception, another exception occurred:\n",
      "\u001B[0;31mNewConnectionError\u001B[0m                        Traceback (most recent call last)",
      "\u001B[0;32m~/opt/anaconda3/lib/python3.9/site-packages/urllib3/connectionpool.py\u001B[0m in \u001B[0;36murlopen\u001B[0;34m(self, method, url, body, headers, retries, redirect, assert_same_host, timeout, pool_timeout, release_conn, chunked, body_pos, **response_kw)\u001B[0m\n\u001B[1;32m    698\u001B[0m             \u001B[0;31m# Make the request on the httplib connection object.\u001B[0m\u001B[0;34m\u001B[0m\u001B[0;34m\u001B[0m\u001B[0m\n\u001B[0;32m--> 699\u001B[0;31m             httplib_response = self._make_request(\n\u001B[0m\u001B[1;32m    700\u001B[0m                 \u001B[0mconn\u001B[0m\u001B[0;34m,\u001B[0m\u001B[0;34m\u001B[0m\u001B[0;34m\u001B[0m\u001B[0m\n",
      "\u001B[0;32m~/opt/anaconda3/lib/python3.9/site-packages/urllib3/connectionpool.py\u001B[0m in \u001B[0;36m_make_request\u001B[0;34m(self, conn, method, url, timeout, chunked, **httplib_request_kw)\u001B[0m\n\u001B[1;32m    381\u001B[0m         \u001B[0;32mtry\u001B[0m\u001B[0;34m:\u001B[0m\u001B[0;34m\u001B[0m\u001B[0;34m\u001B[0m\u001B[0m\n\u001B[0;32m--> 382\u001B[0;31m             \u001B[0mself\u001B[0m\u001B[0;34m.\u001B[0m\u001B[0m_validate_conn\u001B[0m\u001B[0;34m(\u001B[0m\u001B[0mconn\u001B[0m\u001B[0;34m)\u001B[0m\u001B[0;34m\u001B[0m\u001B[0;34m\u001B[0m\u001B[0m\n\u001B[0m\u001B[1;32m    383\u001B[0m         \u001B[0;32mexcept\u001B[0m \u001B[0;34m(\u001B[0m\u001B[0mSocketTimeout\u001B[0m\u001B[0;34m,\u001B[0m \u001B[0mBaseSSLError\u001B[0m\u001B[0;34m)\u001B[0m \u001B[0;32mas\u001B[0m \u001B[0me\u001B[0m\u001B[0;34m:\u001B[0m\u001B[0;34m\u001B[0m\u001B[0;34m\u001B[0m\u001B[0m\n",
      "\u001B[0;32m~/opt/anaconda3/lib/python3.9/site-packages/urllib3/connectionpool.py\u001B[0m in \u001B[0;36m_validate_conn\u001B[0;34m(self, conn)\u001B[0m\n\u001B[1;32m   1009\u001B[0m         \u001B[0;32mif\u001B[0m \u001B[0;32mnot\u001B[0m \u001B[0mgetattr\u001B[0m\u001B[0;34m(\u001B[0m\u001B[0mconn\u001B[0m\u001B[0;34m,\u001B[0m \u001B[0;34m\"sock\"\u001B[0m\u001B[0;34m,\u001B[0m \u001B[0;32mNone\u001B[0m\u001B[0;34m)\u001B[0m\u001B[0;34m:\u001B[0m  \u001B[0;31m# AppEngine might not have  `.sock`\u001B[0m\u001B[0;34m\u001B[0m\u001B[0;34m\u001B[0m\u001B[0m\n\u001B[0;32m-> 1010\u001B[0;31m             \u001B[0mconn\u001B[0m\u001B[0;34m.\u001B[0m\u001B[0mconnect\u001B[0m\u001B[0;34m(\u001B[0m\u001B[0;34m)\u001B[0m\u001B[0;34m\u001B[0m\u001B[0;34m\u001B[0m\u001B[0m\n\u001B[0m\u001B[1;32m   1011\u001B[0m \u001B[0;34m\u001B[0m\u001B[0m\n",
      "\u001B[0;32m~/opt/anaconda3/lib/python3.9/site-packages/urllib3/connection.py\u001B[0m in \u001B[0;36mconnect\u001B[0;34m(self)\u001B[0m\n\u001B[1;32m    357\u001B[0m         \u001B[0;31m# Add certificate verification\u001B[0m\u001B[0;34m\u001B[0m\u001B[0;34m\u001B[0m\u001B[0m\n\u001B[0;32m--> 358\u001B[0;31m         \u001B[0mconn\u001B[0m \u001B[0;34m=\u001B[0m \u001B[0mself\u001B[0m\u001B[0;34m.\u001B[0m\u001B[0m_new_conn\u001B[0m\u001B[0;34m(\u001B[0m\u001B[0;34m)\u001B[0m\u001B[0;34m\u001B[0m\u001B[0;34m\u001B[0m\u001B[0m\n\u001B[0m\u001B[1;32m    359\u001B[0m         \u001B[0mhostname\u001B[0m \u001B[0;34m=\u001B[0m \u001B[0mself\u001B[0m\u001B[0;34m.\u001B[0m\u001B[0mhost\u001B[0m\u001B[0;34m\u001B[0m\u001B[0;34m\u001B[0m\u001B[0m\n",
      "\u001B[0;32m~/opt/anaconda3/lib/python3.9/site-packages/urllib3/connection.py\u001B[0m in \u001B[0;36m_new_conn\u001B[0;34m(self)\u001B[0m\n\u001B[1;32m    185\u001B[0m         \u001B[0;32mexcept\u001B[0m \u001B[0mSocketError\u001B[0m \u001B[0;32mas\u001B[0m \u001B[0me\u001B[0m\u001B[0;34m:\u001B[0m\u001B[0;34m\u001B[0m\u001B[0;34m\u001B[0m\u001B[0m\n\u001B[0;32m--> 186\u001B[0;31m             raise NewConnectionError(\n\u001B[0m\u001B[1;32m    187\u001B[0m                 \u001B[0mself\u001B[0m\u001B[0;34m,\u001B[0m \u001B[0;34m\"Failed to establish a new connection: %s\"\u001B[0m \u001B[0;34m%\u001B[0m \u001B[0me\u001B[0m\u001B[0;34m\u001B[0m\u001B[0;34m\u001B[0m\u001B[0m\n",
      "\u001B[0;31mNewConnectionError\u001B[0m: <urllib3.connection.HTTPSConnection object at 0x7f9579f3f250>: Failed to establish a new connection: [Errno 8] nodename nor servname provided, or not known",
      "\nDuring handling of the above exception, another exception occurred:\n",
      "\u001B[0;31mMaxRetryError\u001B[0m                             Traceback (most recent call last)",
      "\u001B[0;32m~/opt/anaconda3/lib/python3.9/site-packages/requests/adapters.py\u001B[0m in \u001B[0;36msend\u001B[0;34m(self, request, stream, timeout, verify, cert, proxies)\u001B[0m\n\u001B[1;32m    438\u001B[0m             \u001B[0;32mif\u001B[0m \u001B[0;32mnot\u001B[0m \u001B[0mchunked\u001B[0m\u001B[0;34m:\u001B[0m\u001B[0;34m\u001B[0m\u001B[0;34m\u001B[0m\u001B[0m\n\u001B[0;32m--> 439\u001B[0;31m                 resp = conn.urlopen(\n\u001B[0m\u001B[1;32m    440\u001B[0m                     \u001B[0mmethod\u001B[0m\u001B[0;34m=\u001B[0m\u001B[0mrequest\u001B[0m\u001B[0;34m.\u001B[0m\u001B[0mmethod\u001B[0m\u001B[0;34m,\u001B[0m\u001B[0;34m\u001B[0m\u001B[0;34m\u001B[0m\u001B[0m\n",
      "\u001B[0;32m~/opt/anaconda3/lib/python3.9/site-packages/urllib3/connectionpool.py\u001B[0m in \u001B[0;36murlopen\u001B[0;34m(self, method, url, body, headers, retries, redirect, assert_same_host, timeout, pool_timeout, release_conn, chunked, body_pos, **response_kw)\u001B[0m\n\u001B[1;32m    754\u001B[0m \u001B[0;34m\u001B[0m\u001B[0m\n\u001B[0;32m--> 755\u001B[0;31m             retries = retries.increment(\n\u001B[0m\u001B[1;32m    756\u001B[0m                 \u001B[0mmethod\u001B[0m\u001B[0;34m,\u001B[0m \u001B[0murl\u001B[0m\u001B[0;34m,\u001B[0m \u001B[0merror\u001B[0m\u001B[0;34m=\u001B[0m\u001B[0me\u001B[0m\u001B[0;34m,\u001B[0m \u001B[0m_pool\u001B[0m\u001B[0;34m=\u001B[0m\u001B[0mself\u001B[0m\u001B[0;34m,\u001B[0m \u001B[0m_stacktrace\u001B[0m\u001B[0;34m=\u001B[0m\u001B[0msys\u001B[0m\u001B[0;34m.\u001B[0m\u001B[0mexc_info\u001B[0m\u001B[0;34m(\u001B[0m\u001B[0;34m)\u001B[0m\u001B[0;34m[\u001B[0m\u001B[0;36m2\u001B[0m\u001B[0;34m]\u001B[0m\u001B[0;34m\u001B[0m\u001B[0;34m\u001B[0m\u001B[0m\n",
      "\u001B[0;32m~/opt/anaconda3/lib/python3.9/site-packages/urllib3/util/retry.py\u001B[0m in \u001B[0;36mincrement\u001B[0;34m(self, method, url, response, error, _pool, _stacktrace)\u001B[0m\n\u001B[1;32m    573\u001B[0m         \u001B[0;32mif\u001B[0m \u001B[0mnew_retry\u001B[0m\u001B[0;34m.\u001B[0m\u001B[0mis_exhausted\u001B[0m\u001B[0;34m(\u001B[0m\u001B[0;34m)\u001B[0m\u001B[0;34m:\u001B[0m\u001B[0;34m\u001B[0m\u001B[0;34m\u001B[0m\u001B[0m\n\u001B[0;32m--> 574\u001B[0;31m             \u001B[0;32mraise\u001B[0m \u001B[0mMaxRetryError\u001B[0m\u001B[0;34m(\u001B[0m\u001B[0m_pool\u001B[0m\u001B[0;34m,\u001B[0m \u001B[0murl\u001B[0m\u001B[0;34m,\u001B[0m \u001B[0merror\u001B[0m \u001B[0;32mor\u001B[0m \u001B[0mResponseError\u001B[0m\u001B[0;34m(\u001B[0m\u001B[0mcause\u001B[0m\u001B[0;34m)\u001B[0m\u001B[0;34m)\u001B[0m\u001B[0;34m\u001B[0m\u001B[0;34m\u001B[0m\u001B[0m\n\u001B[0m\u001B[1;32m    575\u001B[0m \u001B[0;34m\u001B[0m\u001B[0m\n",
      "\u001B[0;31mMaxRetryError\u001B[0m: HTTPSConnectionPool(host='medium.com', port=443): Max retries exceeded with url: /swlh/archive/2019/12/31 (Caused by NewConnectionError('<urllib3.connection.HTTPSConnection object at 0x7f9579f3f250>: Failed to establish a new connection: [Errno 8] nodename nor servname provided, or not known'))",
      "\nDuring handling of the above exception, another exception occurred:\n",
      "\u001B[0;31mConnectionError\u001B[0m                           Traceback (most recent call last)",
      "\u001B[0;32m/var/folders/zc/g_y3v0fd44z26gwxf6kc_bj40000gn/T/ipykernel_3184/3749116041.py\u001B[0m in \u001B[0;36m<module>\u001B[0;34m\u001B[0m\n\u001B[1;32m      2\u001B[0m \u001B[0murl\u001B[0m \u001B[0;34m=\u001B[0m \u001B[0;34mf'https://medium.com/swlh/archive/2019/{month}/{day}'\u001B[0m\u001B[0;34m\u001B[0m\u001B[0;34m\u001B[0m\u001B[0m\n\u001B[1;32m      3\u001B[0m \u001B[0;34m\u001B[0m\u001B[0m\n\u001B[0;32m----> 4\u001B[0;31m \u001B[0mpage\u001B[0m \u001B[0;34m=\u001B[0m \u001B[0mrequests\u001B[0m\u001B[0;34m.\u001B[0m\u001B[0mget\u001B[0m\u001B[0;34m(\u001B[0m\u001B[0murl\u001B[0m\u001B[0;34m)\u001B[0m\u001B[0;34m\u001B[0m\u001B[0;34m\u001B[0m\u001B[0m\n\u001B[0m",
      "\u001B[0;32m~/opt/anaconda3/lib/python3.9/site-packages/requests/api.py\u001B[0m in \u001B[0;36mget\u001B[0;34m(url, params, **kwargs)\u001B[0m\n\u001B[1;32m     73\u001B[0m     \"\"\"\n\u001B[1;32m     74\u001B[0m \u001B[0;34m\u001B[0m\u001B[0m\n\u001B[0;32m---> 75\u001B[0;31m     \u001B[0;32mreturn\u001B[0m \u001B[0mrequest\u001B[0m\u001B[0;34m(\u001B[0m\u001B[0;34m'get'\u001B[0m\u001B[0;34m,\u001B[0m \u001B[0murl\u001B[0m\u001B[0;34m,\u001B[0m \u001B[0mparams\u001B[0m\u001B[0;34m=\u001B[0m\u001B[0mparams\u001B[0m\u001B[0;34m,\u001B[0m \u001B[0;34m**\u001B[0m\u001B[0mkwargs\u001B[0m\u001B[0;34m)\u001B[0m\u001B[0;34m\u001B[0m\u001B[0;34m\u001B[0m\u001B[0m\n\u001B[0m\u001B[1;32m     76\u001B[0m \u001B[0;34m\u001B[0m\u001B[0m\n\u001B[1;32m     77\u001B[0m \u001B[0;34m\u001B[0m\u001B[0m\n",
      "\u001B[0;32m~/opt/anaconda3/lib/python3.9/site-packages/requests/api.py\u001B[0m in \u001B[0;36mrequest\u001B[0;34m(method, url, **kwargs)\u001B[0m\n\u001B[1;32m     59\u001B[0m     \u001B[0;31m# cases, and look like a memory leak in others.\u001B[0m\u001B[0;34m\u001B[0m\u001B[0;34m\u001B[0m\u001B[0m\n\u001B[1;32m     60\u001B[0m     \u001B[0;32mwith\u001B[0m \u001B[0msessions\u001B[0m\u001B[0;34m.\u001B[0m\u001B[0mSession\u001B[0m\u001B[0;34m(\u001B[0m\u001B[0;34m)\u001B[0m \u001B[0;32mas\u001B[0m \u001B[0msession\u001B[0m\u001B[0;34m:\u001B[0m\u001B[0;34m\u001B[0m\u001B[0;34m\u001B[0m\u001B[0m\n\u001B[0;32m---> 61\u001B[0;31m         \u001B[0;32mreturn\u001B[0m \u001B[0msession\u001B[0m\u001B[0;34m.\u001B[0m\u001B[0mrequest\u001B[0m\u001B[0;34m(\u001B[0m\u001B[0mmethod\u001B[0m\u001B[0;34m=\u001B[0m\u001B[0mmethod\u001B[0m\u001B[0;34m,\u001B[0m \u001B[0murl\u001B[0m\u001B[0;34m=\u001B[0m\u001B[0murl\u001B[0m\u001B[0;34m,\u001B[0m \u001B[0;34m**\u001B[0m\u001B[0mkwargs\u001B[0m\u001B[0;34m)\u001B[0m\u001B[0;34m\u001B[0m\u001B[0;34m\u001B[0m\u001B[0m\n\u001B[0m\u001B[1;32m     62\u001B[0m \u001B[0;34m\u001B[0m\u001B[0m\n\u001B[1;32m     63\u001B[0m \u001B[0;34m\u001B[0m\u001B[0m\n",
      "\u001B[0;32m~/opt/anaconda3/lib/python3.9/site-packages/requests/sessions.py\u001B[0m in \u001B[0;36mrequest\u001B[0;34m(self, method, url, params, data, headers, cookies, files, auth, timeout, allow_redirects, proxies, hooks, stream, verify, cert, json)\u001B[0m\n\u001B[1;32m    540\u001B[0m         }\n\u001B[1;32m    541\u001B[0m         \u001B[0msend_kwargs\u001B[0m\u001B[0;34m.\u001B[0m\u001B[0mupdate\u001B[0m\u001B[0;34m(\u001B[0m\u001B[0msettings\u001B[0m\u001B[0;34m)\u001B[0m\u001B[0;34m\u001B[0m\u001B[0;34m\u001B[0m\u001B[0m\n\u001B[0;32m--> 542\u001B[0;31m         \u001B[0mresp\u001B[0m \u001B[0;34m=\u001B[0m \u001B[0mself\u001B[0m\u001B[0;34m.\u001B[0m\u001B[0msend\u001B[0m\u001B[0;34m(\u001B[0m\u001B[0mprep\u001B[0m\u001B[0;34m,\u001B[0m \u001B[0;34m**\u001B[0m\u001B[0msend_kwargs\u001B[0m\u001B[0;34m)\u001B[0m\u001B[0;34m\u001B[0m\u001B[0;34m\u001B[0m\u001B[0m\n\u001B[0m\u001B[1;32m    543\u001B[0m \u001B[0;34m\u001B[0m\u001B[0m\n\u001B[1;32m    544\u001B[0m         \u001B[0;32mreturn\u001B[0m \u001B[0mresp\u001B[0m\u001B[0;34m\u001B[0m\u001B[0;34m\u001B[0m\u001B[0m\n",
      "\u001B[0;32m~/opt/anaconda3/lib/python3.9/site-packages/requests/sessions.py\u001B[0m in \u001B[0;36msend\u001B[0;34m(self, request, **kwargs)\u001B[0m\n\u001B[1;32m    653\u001B[0m \u001B[0;34m\u001B[0m\u001B[0m\n\u001B[1;32m    654\u001B[0m         \u001B[0;31m# Send the request\u001B[0m\u001B[0;34m\u001B[0m\u001B[0;34m\u001B[0m\u001B[0m\n\u001B[0;32m--> 655\u001B[0;31m         \u001B[0mr\u001B[0m \u001B[0;34m=\u001B[0m \u001B[0madapter\u001B[0m\u001B[0;34m.\u001B[0m\u001B[0msend\u001B[0m\u001B[0;34m(\u001B[0m\u001B[0mrequest\u001B[0m\u001B[0;34m,\u001B[0m \u001B[0;34m**\u001B[0m\u001B[0mkwargs\u001B[0m\u001B[0;34m)\u001B[0m\u001B[0;34m\u001B[0m\u001B[0;34m\u001B[0m\u001B[0m\n\u001B[0m\u001B[1;32m    656\u001B[0m \u001B[0;34m\u001B[0m\u001B[0m\n\u001B[1;32m    657\u001B[0m         \u001B[0;31m# Total elapsed time of the request (approximately)\u001B[0m\u001B[0;34m\u001B[0m\u001B[0;34m\u001B[0m\u001B[0m\n",
      "\u001B[0;32m~/opt/anaconda3/lib/python3.9/site-packages/requests/adapters.py\u001B[0m in \u001B[0;36msend\u001B[0;34m(self, request, stream, timeout, verify, cert, proxies)\u001B[0m\n\u001B[1;32m    514\u001B[0m                 \u001B[0;32mraise\u001B[0m \u001B[0mSSLError\u001B[0m\u001B[0;34m(\u001B[0m\u001B[0me\u001B[0m\u001B[0;34m,\u001B[0m \u001B[0mrequest\u001B[0m\u001B[0;34m=\u001B[0m\u001B[0mrequest\u001B[0m\u001B[0;34m)\u001B[0m\u001B[0;34m\u001B[0m\u001B[0;34m\u001B[0m\u001B[0m\n\u001B[1;32m    515\u001B[0m \u001B[0;34m\u001B[0m\u001B[0m\n\u001B[0;32m--> 516\u001B[0;31m             \u001B[0;32mraise\u001B[0m \u001B[0mConnectionError\u001B[0m\u001B[0;34m(\u001B[0m\u001B[0me\u001B[0m\u001B[0;34m,\u001B[0m \u001B[0mrequest\u001B[0m\u001B[0;34m=\u001B[0m\u001B[0mrequest\u001B[0m\u001B[0;34m)\u001B[0m\u001B[0;34m\u001B[0m\u001B[0;34m\u001B[0m\u001B[0m\n\u001B[0m\u001B[1;32m    517\u001B[0m \u001B[0;34m\u001B[0m\u001B[0m\n\u001B[1;32m    518\u001B[0m         \u001B[0;32mexcept\u001B[0m \u001B[0mClosedPoolError\u001B[0m \u001B[0;32mas\u001B[0m \u001B[0me\u001B[0m\u001B[0;34m:\u001B[0m\u001B[0;34m\u001B[0m\u001B[0;34m\u001B[0m\u001B[0m\n",
      "\u001B[0;31mConnectionError\u001B[0m: HTTPSConnectionPool(host='medium.com', port=443): Max retries exceeded with url: /swlh/archive/2019/12/31 (Caused by NewConnectionError('<urllib3.connection.HTTPSConnection object at 0x7f9579f3f250>: Failed to establish a new connection: [Errno 8] nodename nor servname provided, or not known'))"
     ]
    }
   ],
   "source": [
    "date = f'{month}/{day}/2019'\n",
    "url = f'https://medium.com/swlh/archive/2019/{month}/{day}'\n",
    "\n",
    "page = requests.get(url)\n",
    "soup = BeautifulSoup(page.text,'html.parser')"
   ],
   "metadata": {
    "collapsed": false,
    "pycharm": {
     "name": "#%%\n"
    }
   }
  }
 ],
 "metadata": {
  "kernelspec": {
   "display_name": "Python 3",
   "language": "python",
   "name": "python3"
  },
  "language_info": {
   "codemirror_mode": {
    "name": "ipython",
    "version": 2
   },
   "file_extension": ".py",
   "mimetype": "text/x-python",
   "name": "python",
   "nbconvert_exporter": "python",
   "pygments_lexer": "ipython2",
   "version": "2.7.6"
  }
 },
 "nbformat": 4,
 "nbformat_minor": 0
}