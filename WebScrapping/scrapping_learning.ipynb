{
 "cells": [
  {
   "cell_type": "markdown",
   "metadata": {},
   "source": [
    "if you want to scrap a website:\n",
    "\n",
    "1. use the API\n",
    "2. HTML Scrapping using some tools like BS4\n",
    "\n",
    "if they are providing you API , so it always good to access their resource with it"
   ]
  },
  {
   "cell_type": "code",
   "execution_count": 4,
   "metadata": {
    "collapsed": true
   },
   "outputs": [
    {
     "name": "stdout",
     "output_type": "stream",
     "text": [
      "Requirement already satisfied: requests in /Users/syedamariumfaheem/opt/anaconda3/lib/python3.9/site-packages (2.26.0)\r\n",
      "Requirement already satisfied: charset-normalizer~=2.0.0 in /Users/syedamariumfaheem/opt/anaconda3/lib/python3.9/site-packages (from requests) (2.0.4)\r\n",
      "Requirement already satisfied: certifi>=2017.4.17 in /Users/syedamariumfaheem/opt/anaconda3/lib/python3.9/site-packages (from requests) (2021.10.8)\r\n",
      "Requirement already satisfied: urllib3<1.27,>=1.21.1 in /Users/syedamariumfaheem/opt/anaconda3/lib/python3.9/site-packages (from requests) (1.26.7)\r\n",
      "Requirement already satisfied: idna<4,>=2.5 in /Users/syedamariumfaheem/opt/anaconda3/lib/python3.9/site-packages (from requests) (3.2)\r\n",
      "Collecting bs4\r\n",
      "  Downloading bs4-0.0.1.tar.gz (1.1 kB)\r\n",
      "Requirement already satisfied: beautifulsoup4 in /Users/syedamariumfaheem/opt/anaconda3/lib/python3.9/site-packages (from bs4) (4.10.0)\r\n",
      "Requirement already satisfied: soupsieve>1.2 in /Users/syedamariumfaheem/opt/anaconda3/lib/python3.9/site-packages (from beautifulsoup4->bs4) (2.2.1)\r\n",
      "Building wheels for collected packages: bs4\r\n",
      "  Building wheel for bs4 (setup.py) ... \u001B[?25ldone\r\n",
      "\u001B[?25h  Created wheel for bs4: filename=bs4-0.0.1-py3-none-any.whl size=1271 sha256=61ff9a6db54c4f98ac5df54b3f53e3c59ae619871c941ea522d2673f540f8dcf\r\n",
      "  Stored in directory: /Users/syedamariumfaheem/Library/Caches/pip/wheels/73/2b/cb/099980278a0c9a3e57ff1a89875ec07bfa0b6fcbebb9a8cad3\r\n",
      "Successfully built bs4\r\n",
      "Installing collected packages: bs4\r\n",
      "Successfully installed bs4-0.0.1\r\n",
      "Requirement already satisfied: html5lib in /Users/syedamariumfaheem/opt/anaconda3/lib/python3.9/site-packages (1.1)\r\n",
      "Requirement already satisfied: six>=1.9 in /Users/syedamariumfaheem/opt/anaconda3/lib/python3.9/site-packages (from html5lib) (1.16.0)\r\n",
      "Requirement already satisfied: webencodings in /Users/syedamariumfaheem/opt/anaconda3/lib/python3.9/site-packages (from html5lib) (0.5.1)\r\n"
     ]
    }
   ],
   "source": [
    "!pip install requests\n",
    "!pip install bs4\n",
    "!pip install html5lib"
   ]
  },
  {
   "cell_type": "code",
   "execution_count": 5,
   "metadata": {
    "pycharm": {
     "name": "#%%\n"
    }
   },
   "outputs": [],
   "source": [
    "import requests\n",
    "from bs4 import BeautifulSoup"
   ]
  },
  {
   "cell_type": "code",
   "execution_count": 54,
   "metadata": {
    "pycharm": {
     "name": "#%%\n"
    }
   },
   "outputs": [],
   "source": [
    "url = \"https://www.codewithharry.com\""
   ]
  },
  {
   "cell_type": "code",
   "execution_count": 8,
   "metadata": {},
   "outputs": [],
   "source": [
    "r = requests.get(url)"
   ]
  },
  {
   "cell_type": "code",
   "execution_count": 14,
   "metadata": {},
   "outputs": [],
   "source": [
    "#Step 1 : GET the html\n",
    "htmlContent = r.content\n",
    "\n",
    "#Step 2 : Parse the HTML\n",
    "soup = BeautifulSoup(htmlContent,'html.parser')\n",
    "\n",
    "soup.prettify\n",
    "\n",
    "#Step 3 : HTML tree traversal"
   ]
  },
  {
   "cell_type": "markdown",
   "metadata": {},
   "source": [
    "Commonly used types of objects\n",
    "\n",
    "1. Tag\n",
    "2. NavigableString\n",
    "3. BeautifulSoup\n",
    "4. Comment\n"
   ]
  },
  {
   "cell_type": "code",
   "execution_count": 21,
   "metadata": {
    "pycharm": {
     "name": "#%%\n"
    }
   },
   "outputs": [
    {
     "name": "stdout",
     "output_type": "stream",
     "text": [
      "<class 'bs4.BeautifulSoup'>\n",
      "<class 'bs4.element.Tag'>\n",
      "<class 'bs4.element.NavigableString'>\n"
     ]
    }
   ],
   "source": [
    "print(type(soup))\n",
    "print(type(title))\n",
    "print(type(title.string))\n"
   ]
  },
  {
   "cell_type": "markdown",
   "source": [
    "get all the paraphs from the page"
   ],
   "metadata": {
    "collapsed": false
   }
  },
  {
   "cell_type": "code",
   "execution_count": 24,
   "metadata": {},
   "outputs": [
    {
     "data": {
      "text/plain": [
       "[<p class=\"mt-2 text-sm text-gray-500 md:text-base\">Confused on which course to take? I have got you covered. Browse courses and find out the best course for you. Its free! Code With Harry is my attempt to teach basics and those coding techniques to people in short time which took me ages to learn.</p>,\n",
       " <p class=\"text-gray-700 text-base\">Complete Tailwind CSS Course by CodeWithHarry in Hindi - Learn Tailwind CSS from scratch for free! </p>,\n",
       " <p class=\"text-gray-700 text-base\">Complete Next.js Course by CodeWithHarry in Hindi - Learn Next.js from Scratch.</p>,\n",
       " <p class=\"text-gray-700 text-base\">React is a free and open-source front-end JavaScript library. This series will cover React from starting to the end. We will learn react from the ground up!</p>,\n",
       " <p class=\"leading-relaxed mb-6\">I don't have words to thank this man, I'm really grateful to have this channel and website in my daily routine. If you're a mere beginner, then you can trust this guy and can put your time into his content. I can assure you that it'll be worth it.</p>,\n",
       " <p class=\"leading-relaxed mb-6\">For everyone who wants to level up their #Coding and #Dev skills - seriously, this channel is for you! Both basic and advanced stacks are covered on this channel, and one can learn according to his skill levels. And the icing on the cake is, everything is available for free.</p>,\n",
       " <p class=\"text-sm text-gray-500 sm:ml-4 sm:pl-4 sm:border-l-2 sm:border-gray-200 sm:py-2 mt-4 md:mt-2 mb-2 md:mb-0 text-center\">Copyright © 2022 CodeWithHarry.com</p>]"
      ]
     },
     "execution_count": 24,
     "metadata": {},
     "output_type": "execute_result"
    }
   ],
   "source": [
    "soup.find_all('p')"
   ]
  },
  {
   "cell_type": "code",
   "execution_count": 38,
   "metadata": {},
   "outputs": [],
   "source": [
    "anchors = soup.find_all('a')"
   ]
  },
  {
   "cell_type": "code",
   "execution_count": 42,
   "metadata": {},
   "outputs": [
    {
     "data": {
      "text/plain": [
       "['mt-2', 'text-sm', 'text-gray-500', 'md:text-base']"
      ]
     },
     "execution_count": 42,
     "metadata": {},
     "output_type": "execute_result"
    }
   ],
   "source": [
    "#get the classes of any object \n",
    "paras= soup.find('p')['class']\n",
    "paras"
   ]
  },
  {
   "cell_type": "markdown",
   "source": [
    "find all the elemnt with class lead"
   ],
   "metadata": {
    "collapsed": false
   }
  },
  {
   "cell_type": "code",
   "execution_count": null,
   "metadata": {},
   "outputs": [],
   "source": [
    "soup.find_all('p',class_='mt-2')"
   ]
  },
  {
   "cell_type": "markdown",
   "source": [
    "Get the text from tags/soup"
   ],
   "metadata": {
    "collapsed": false
   }
  },
  {
   "cell_type": "code",
   "execution_count": 45,
   "metadata": {},
   "outputs": [
    {
     "data": {
      "text/plain": "'Confused on which course to take? I have got you covered. Browse courses and find out the best course for you. Its free! Code With Harry is my attempt to teach basics and those coding techniques to people in short time which took me ages to learn.'"
     },
     "execution_count": 45,
     "metadata": {},
     "output_type": "execute_result"
    }
   ],
   "source": [
    "soup.find('p').get_text()"
   ]
  },
  {
   "cell_type": "code",
   "execution_count": 47,
   "outputs": [
    {
     "data": {
      "text/plain": "\"Learn to code online - CodeWithHarryCodeWithHarryMenuLoginHomeCoursesTutorialBlogContactLoginSignupHTMLCSSJSCC++JAVAPYTHONTAILWINDREACTJSNEXTJSHomeCoursesTutorialBlogContactWelcome to CodeWithHarryConfused on which course to take? I have got you covered. Browse courses and find out the best course for you. Its free! Code With Harry is my attempt to teach basics and those coding techniques to people in short time which took me ages to learn.Free CoursesExplore BlogRecommended CoursesFree CourseTailwind Course In HindiComplete Tailwind CSS Course by CodeWithHarry in Hindi - Learn Tailwind CSS from scratch for free!  Start WatchingFree CourseNext.js Tutorials For BeginnersComplete Next.js Course by CodeWithHarry in Hindi - Learn Next.js from Scratch. Start WatchingFree CourseReact Js Tutorials For BeginnersReact is a free and open-source front-end JavaScript library. This series will cover React from starting to the end. We will learn react from the ground up! Start WatchingTestimonialsI don't have words to thank this man, I'm really grateful to have this channel and website in my daily routine. If you're a mere beginner, then you can trust this guy and can put your time into his content. I can assure you that it'll be worth it.Mohit KumarWeb DeveloperFor everyone who wants to level up their #Coding and #Dev skills - seriously, this channel is for you! Both basic and advanced stacks are covered on this channel, and one can learn according to his skill levels. And the icing on the cake is, everything is available for free.Rakesh ShettyWeb DeveloperCodeWithHarryCopyright © 2022 CodeWithHarry.com\""
     },
     "execution_count": 47,
     "metadata": {},
     "output_type": "execute_result"
    }
   ],
   "source": [
    "soup.get_text()"
   ],
   "metadata": {
    "collapsed": false,
    "pycharm": {
     "name": "#%%\n"
    }
   }
  },
  {
   "cell_type": "code",
   "execution_count": null,
   "outputs": [],
   "source": [],
   "metadata": {
    "collapsed": false,
    "pycharm": {
     "name": "#%%\n"
    }
   }
  },
  {
   "cell_type": "markdown",
   "source": [
    "get all the links on the pags"
   ],
   "metadata": {
    "collapsed": false
   }
  },
  {
   "cell_type": "code",
   "execution_count": 55,
   "outputs": [
    {
     "name": "stdout",
     "output_type": "stream",
     "text": [
      "https://www.codewithharry.com/\n",
      "https://www.codewithharry.com/\n",
      "https://www.codewithharry.com/videos/\n",
      "https://www.codewithharry.com/tutorial/html-home/\n",
      "https://www.codewithharry.com/blogs/\n",
      "https://www.codewithharry.com/contact/\n",
      "https://www.codewithharry.com/tutorial/html-home/\n",
      "https://www.codewithharry.com/tutorial/css-home/\n",
      "https://www.codewithharry.com/tutorial/js/\n",
      "https://www.codewithharry.com/tutorial/c/\n",
      "https://www.codewithharry.com/tutorial/cplusplus/\n",
      "https://www.codewithharry.com/tutorial/java/\n",
      "https://www.codewithharry.com/tutorial/python/\n",
      "https://www.codewithharry.com/tutorial/tailwind/\n",
      "https://www.codewithharry.com/tutorial/reactjs/\n",
      "https://www.codewithharry.com/tutorial/nextjs/\n",
      "https://www.codewithharry.com/\n",
      "https://www.codewithharry.com/videos/\n",
      "https://www.codewithharry.com/tutorial/html-home/\n",
      "https://www.codewithharry.com/blogs/\n",
      "https://www.codewithharry.com/contact/\n",
      "https://www.codewithharry.comhttps://www.facebook.com/codewithharry\n",
      "https://www.codewithharry.comhttps://www.twitter.com/codewithharry\n",
      "https://www.codewithharry.comhttps://www.instagram.com/codewithharry\n",
      "https://www.codewithharry.comhttps://www.github.com/codewithharry\n"
     ]
    }
   ],
   "source": [
    "all_links = set()\n",
    "for link in anchors:\n",
    "    if link!='/':\n",
    "        print(url+link.get('href'))\n",
    "        all_links.add(url+link.get('href'))"
   ],
   "metadata": {
    "collapsed": false,
    "pycharm": {
     "name": "#%%\n"
    }
   }
  },
  {
   "cell_type": "markdown",
   "source": [
    ".content -  A tag children are available as a list\n",
    ".children - A tag's children are available as a generator"
   ],
   "metadata": {
    "collapsed": false
   }
  },
  {
   "cell_type": "code",
   "execution_count": 64,
   "outputs": [
    {
     "name": "stdout",
     "output_type": "stream",
     "text": [
      "<ul class=\"flex items-center flex-col lg:flex-row\"><div class=\"search-icon cursor-pointer px-6 hidden\" id=\"search-toggle\"><svg class=\"fill-current pointer-events-none text-grey-darkest w-4 h-4 inline\" viewbox=\"0 0 20 20\" xmlns=\"http://www.w3.org/2000/svg\"><path d=\"M12.9 14.32a8 8 0 1 1 1.41-1.41l5.35 5.33-1.42 1.42-5.33-5.34zM8 14A6 6 0 1 0 8 2a6 6 0 0 0 0 12z\"></path></svg></div><li class=\"mx-2 my-2 text-black hover:border-b-2 hover:border-purple-700\"><a href=\"/\">Home</a></li><li class=\"mx-2 my-2 text-black hover:border-b-2 hover:border-purple-700\"><a href=\"/videos/\">Courses</a></li><li class=\"mx-2 my-2 text-black hover:border-b-2 hover:border-purple-700\"><a href=\"/tutorial/html-home/\">Tutorial</a></li><li class=\"mx-2 my-2 text-black hover:border-b-2 hover:border-purple-700\"><a href=\"/blogs/\">Blog</a></li><li class=\"mx-2 my-2 text-black hover:border-b-2 hover:border-purple-700\"><a href=\"/contact/\">Contact</a></li></ul>\n",
      "<div class=\"text-center my-2 px-4\"><button class=\"text-white bg-purple-700 hover:bg-purple-800 focus:ring-4 focus:ring-purple-300 font-medium rounded-lg text-sm px-3 py-2 text-center inline-flex items-center mx-1\">Login</button><button class=\"text-white bg-purple-700 hover:bg-purple-800 focus:ring-4 focus:ring-purple-300 font-medium rounded-lg text-sm px-3 py-2 text-center inline-flex items-center mx-1\">Signup</button></div>\n"
     ]
    }
   ],
   "source": [
    "navbarSupportContent = soup.find(id='nav-content')\n",
    "\n",
    "for elem in navbarSupportContent:\n",
    "    print(elem)"
   ],
   "metadata": {
    "collapsed": false,
    "pycharm": {
     "name": "#%%\n"
    }
   }
  },
  {
   "cell_type": "code",
   "execution_count": 61,
   "outputs": [
    {
     "name": "stdout",
     "output_type": "stream",
     "text": [
      "Home\n",
      "Courses\n",
      "Tutorial\n",
      "Blog\n",
      "Contact\n",
      "Login\n",
      "Signup\n"
     ]
    }
   ],
   "source": [
    "for item in navbarSupportContent.stripped_strings:\n",
    "    print(item)"
   ],
   "metadata": {
    "collapsed": false,
    "pycharm": {
     "name": "#%%\n"
    }
   }
  }
 ],
 "metadata": {
  "kernelspec": {
   "display_name": "Python 3 (ipykernel)",
   "language": "python",
   "name": "python3"
  },
  "language_info": {
   "codemirror_mode": {
    "name": "ipython",
    "version": 3
   },
   "file_extension": ".py",
   "mimetype": "text/x-python",
   "name": "python",
   "nbconvert_exporter": "python",
   "pygments_lexer": "ipython3",
   "version": "3.9.7"
  }
 },
 "nbformat": 4,
 "nbformat_minor": 1
}